{
 "cells": [
  {
   "cell_type": "code",
   "execution_count": 2,
   "id": "bd30b335",
   "metadata": {},
   "outputs": [],
   "source": [
    "import pandas as pd\n",
    "import numpy as np\n",
    "import matplotlib.pyplot as plt"
   ]
  },
  {
   "cell_type": "code",
   "execution_count": 3,
   "id": "6b342109",
   "metadata": {},
   "outputs": [
    {
     "data": {
      "text/html": [
       "<div>\n",
       "<style scoped>\n",
       "    .dataframe tbody tr th:only-of-type {\n",
       "        vertical-align: middle;\n",
       "    }\n",
       "\n",
       "    .dataframe tbody tr th {\n",
       "        vertical-align: top;\n",
       "    }\n",
       "\n",
       "    .dataframe thead th {\n",
       "        text-align: right;\n",
       "    }\n",
       "</style>\n",
       "<table border=\"1\" class=\"dataframe\">\n",
       "  <thead>\n",
       "    <tr style=\"text-align: right;\">\n",
       "      <th></th>\n",
       "      <th>name</th>\n",
       "      <th>value</th>\n",
       "      <th>group</th>\n",
       "    </tr>\n",
       "  </thead>\n",
       "  <tbody>\n",
       "    <tr>\n",
       "      <th>0</th>\n",
       "      <td>item 1</td>\n",
       "      <td>31</td>\n",
       "      <td>A</td>\n",
       "    </tr>\n",
       "    <tr>\n",
       "      <th>1</th>\n",
       "      <td>item 2</td>\n",
       "      <td>77</td>\n",
       "      <td>A</td>\n",
       "    </tr>\n",
       "    <tr>\n",
       "      <th>2</th>\n",
       "      <td>item 3</td>\n",
       "      <td>71</td>\n",
       "      <td>A</td>\n",
       "    </tr>\n",
       "  </tbody>\n",
       "</table>\n",
       "</div>"
      ],
      "text/plain": [
       "     name  value group\n",
       "0  item 1     31     A\n",
       "1  item 2     77     A\n",
       "2  item 3     71     A"
      ]
     },
     "execution_count": 3,
     "metadata": {},
     "output_type": "execute_result"
    }
   ],
   "source": [
    "rng = np.random.default_rng(123)\n",
    "# Build a dataset\n",
    "df = pd.DataFrame({\n",
    "    \"name\": [f\"item {i}\" for i in range(1, 51)],\n",
    "    \"value\": rng.integers(low=30, high=100, size=50),\n",
    "    \"group\": [\"A\"] * 10 + [\"B\"] * 20 + [\"C\"] * 12 + [\"D\"] * 8\n",
    "})\n",
    "\n",
    "# Show 3 first rows\n",
    "df.head(3)"
   ]
  },
  {
   "cell_type": "code",
   "execution_count": 4,
   "id": "0f9d40b5",
   "metadata": {},
   "outputs": [],
   "source": [
    "def get_label_rotation(angle, offset):\n",
    "    # Rotation must be specified in degrees :(\n",
    "    rotation = np.rad2deg(angle + offset)\n",
    "    if angle <= np.pi:\n",
    "        alignment = \"right\"\n",
    "        rotation = rotation + 180\n",
    "    else: \n",
    "        alignment = \"left\"\n",
    "    return rotation, alignment"
   ]
  },
  {
   "cell_type": "code",
   "execution_count": 5,
   "id": "75429507",
   "metadata": {},
   "outputs": [],
   "source": [
    "def add_labels(angles, values, labels, offset, ax):\n",
    "    \n",
    "    # This is the space between the end of the bar and the label\n",
    "    padding = 4\n",
    "    \n",
    "    # Iterate over angles, values, and labels, to add all of them.\n",
    "    for angle, value, label, in zip(angles, values, labels):\n",
    "        angle = angle\n",
    "        \n",
    "        # Obtain text rotation and alignment\n",
    "        rotation, alignment = get_label_rotation(angle, offset)\n",
    "\n",
    "        # And finally add the text\n",
    "        ax.text(\n",
    "            x=angle, \n",
    "            y=value + padding, \n",
    "            s=label, \n",
    "            ha=alignment, \n",
    "            va=\"center\", \n",
    "            rotation=rotation, \n",
    "            rotation_mode=\"anchor\"\n",
    "        ) "
   ]
  },
  {
   "cell_type": "code",
   "execution_count": null,
   "id": "99ff1e01",
   "metadata": {},
   "outputs": [],
   "source": []
  }
 ],
 "metadata": {
  "kernelspec": {
   "display_name": "Python 3 (ipykernel)",
   "language": "python",
   "name": "python3"
  },
  "language_info": {
   "codemirror_mode": {
    "name": "ipython",
    "version": 3
   },
   "file_extension": ".py",
   "mimetype": "text/x-python",
   "name": "python",
   "nbconvert_exporter": "python",
   "pygments_lexer": "ipython3",
   "version": "3.9.7"
  }
 },
 "nbformat": 4,
 "nbformat_minor": 5
}
