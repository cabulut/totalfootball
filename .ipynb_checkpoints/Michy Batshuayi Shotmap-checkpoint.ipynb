{
 "cells": [
  {
   "cell_type": "code",
   "execution_count": 149,
   "id": "4601d74d",
   "metadata": {},
   "outputs": [],
   "source": [
    "# importing packages\n",
    "from understatscraper import Understat\n",
    "import pandas as pd\n",
    "from mplsoccer.pitch import Pitch, VerticalPitch\n",
    "import matplotlib.pyplot as plt\n",
    "import warnings\n",
    "warnings.filterwarnings('ignore')\n",
    "pd.set_option('display.max_rows', None)"
   ]
  },
  {
   "cell_type": "code",
   "execution_count": 3,
   "id": "64ed4176",
   "metadata": {},
   "outputs": [],
   "source": [
    "# instance of the class\n",
    "\n",
    "understat = Understat()"
   ]
  },
  {
   "cell_type": "markdown",
   "id": "79fe0ea0",
   "metadata": {},
   "source": [
    "### Seasons of Batshuayi between 2015 and 2021\n",
    "\n",
    "- 2015-16 Ligue 1 Marseille\n",
    "- 2016-18 EPL Chelsea\n",
    "- 2017-18 Bundesliga Borussia Dortmund (half season loan)\n",
    "- 2018-19 La Liga Valencia (half season loan)\n",
    "- 2018-19 EPL Crystal Palace (half season loan)\n",
    "- 2019-20 EPL Chelsea\n",
    "- 2020-21 EPL Crystal Palace"
   ]
  },
  {
   "cell_type": "code",
   "execution_count": 57,
   "id": "df01e433",
   "metadata": {},
   "outputs": [],
   "source": [
    "ligues = ['Ligue 1','EPL','EPL','Bundesliga','La liga','EPL','EPL','EPL']\n",
    "seasons = [2015,2016,2017,2017,2018,2018,2019,2020]"
   ]
  },
  {
   "cell_type": "code",
   "execution_count": 257,
   "id": "08996726",
   "metadata": {},
   "outputs": [],
   "source": [
    "# creating dataframe by iterating through two lists\n",
    "df = pd.DataFrame()\n",
    "for l,s in zip(ligues,seasons):\n",
    "    df_b = understat.season(l,s,player=\"Michy Batshuayi\")\n",
    "    df = df.append(df_b)"
   ]
  },
  {
   "cell_type": "markdown",
   "id": "bbbbb16a",
   "metadata": {},
   "source": [
    "### Inspecting dataframe"
   ]
  },
  {
   "cell_type": "code",
   "execution_count": 258,
   "id": "e194f5d0",
   "metadata": {},
   "outputs": [
    {
     "data": {
      "text/html": [
       "<div>\n",
       "<style scoped>\n",
       "    .dataframe tbody tr th:only-of-type {\n",
       "        vertical-align: middle;\n",
       "    }\n",
       "\n",
       "    .dataframe tbody tr th {\n",
       "        vertical-align: top;\n",
       "    }\n",
       "\n",
       "    .dataframe thead th {\n",
       "        text-align: right;\n",
       "    }\n",
       "</style>\n",
       "<table border=\"1\" class=\"dataframe\">\n",
       "  <thead>\n",
       "    <tr style=\"text-align: right;\">\n",
       "      <th></th>\n",
       "      <th>id</th>\n",
       "      <th>minute</th>\n",
       "      <th>result</th>\n",
       "      <th>X</th>\n",
       "      <th>Y</th>\n",
       "      <th>xG</th>\n",
       "      <th>player</th>\n",
       "      <th>h_a</th>\n",
       "      <th>player_id</th>\n",
       "      <th>situation</th>\n",
       "      <th>season</th>\n",
       "      <th>shotType</th>\n",
       "      <th>match_id</th>\n",
       "      <th>h_team</th>\n",
       "      <th>a_team</th>\n",
       "      <th>h_goals</th>\n",
       "      <th>a_goals</th>\n",
       "      <th>date</th>\n",
       "      <th>player_assisted</th>\n",
       "      <th>lastAction</th>\n",
       "    </tr>\n",
       "  </thead>\n",
       "  <tbody>\n",
       "    <tr>\n",
       "      <th>0</th>\n",
       "      <td>61453</td>\n",
       "      <td>7</td>\n",
       "      <td>MissedShots</td>\n",
       "      <td>0.8730000305175781</td>\n",
       "      <td>0.5829999923706055</td>\n",
       "      <td>0.12163817882537842</td>\n",
       "      <td>Michy Batshuayi</td>\n",
       "      <td>h</td>\n",
       "      <td>1678</td>\n",
       "      <td>OpenPlay</td>\n",
       "      <td>2015</td>\n",
       "      <td>LeftFoot</td>\n",
       "      <td>1871</td>\n",
       "      <td>Marseille</td>\n",
       "      <td>Caen</td>\n",
       "      <td>0</td>\n",
       "      <td>1</td>\n",
       "      <td>2015-08-08 23:00:00</td>\n",
       "      <td>Abdel Barrada</td>\n",
       "      <td>Throughball</td>\n",
       "    </tr>\n",
       "    <tr>\n",
       "      <th>2</th>\n",
       "      <td>61458</td>\n",
       "      <td>25</td>\n",
       "      <td>BlockedShot</td>\n",
       "      <td>0.909000015258789</td>\n",
       "      <td>0.675</td>\n",
       "      <td>0.06413242965936661</td>\n",
       "      <td>Michy Batshuayi</td>\n",
       "      <td>h</td>\n",
       "      <td>1678</td>\n",
       "      <td>OpenPlay</td>\n",
       "      <td>2015</td>\n",
       "      <td>LeftFoot</td>\n",
       "      <td>1871</td>\n",
       "      <td>Marseille</td>\n",
       "      <td>Caen</td>\n",
       "      <td>0</td>\n",
       "      <td>1</td>\n",
       "      <td>2015-08-08 23:00:00</td>\n",
       "      <td>Florian Thauvin</td>\n",
       "      <td>Pass</td>\n",
       "    </tr>\n",
       "    <tr>\n",
       "      <th>3</th>\n",
       "      <td>61460</td>\n",
       "      <td>29</td>\n",
       "      <td>SavedShot</td>\n",
       "      <td>0.919000015258789</td>\n",
       "      <td>0.555</td>\n",
       "      <td>0.08026830852031708</td>\n",
       "      <td>Michy Batshuayi</td>\n",
       "      <td>h</td>\n",
       "      <td>1678</td>\n",
       "      <td>FromCorner</td>\n",
       "      <td>2015</td>\n",
       "      <td>Head</td>\n",
       "      <td>1871</td>\n",
       "      <td>Marseille</td>\n",
       "      <td>Caen</td>\n",
       "      <td>0</td>\n",
       "      <td>1</td>\n",
       "      <td>2015-08-08 23:00:00</td>\n",
       "      <td>Abdel Barrada</td>\n",
       "      <td>Cross</td>\n",
       "    </tr>\n",
       "    <tr>\n",
       "      <th>5</th>\n",
       "      <td>61462</td>\n",
       "      <td>38</td>\n",
       "      <td>BlockedShot</td>\n",
       "      <td>0.9230000305175782</td>\n",
       "      <td>0.48200000762939454</td>\n",
       "      <td>0.5214341878890991</td>\n",
       "      <td>Michy Batshuayi</td>\n",
       "      <td>h</td>\n",
       "      <td>1678</td>\n",
       "      <td>FromCorner</td>\n",
       "      <td>2015</td>\n",
       "      <td>RightFoot</td>\n",
       "      <td>1871</td>\n",
       "      <td>Marseille</td>\n",
       "      <td>Caen</td>\n",
       "      <td>0</td>\n",
       "      <td>1</td>\n",
       "      <td>2015-08-08 23:00:00</td>\n",
       "      <td>None</td>\n",
       "      <td>None</td>\n",
       "    </tr>\n",
       "    <tr>\n",
       "      <th>11</th>\n",
       "      <td>61709</td>\n",
       "      <td>82</td>\n",
       "      <td>MissedShots</td>\n",
       "      <td>0.7559999847412109</td>\n",
       "      <td>0.39799999237060546</td>\n",
       "      <td>0.01823040470480919</td>\n",
       "      <td>Michy Batshuayi</td>\n",
       "      <td>a</td>\n",
       "      <td>1678</td>\n",
       "      <td>OpenPlay</td>\n",
       "      <td>2015</td>\n",
       "      <td>RightFoot</td>\n",
       "      <td>1886</td>\n",
       "      <td>Reims</td>\n",
       "      <td>Marseille</td>\n",
       "      <td>1</td>\n",
       "      <td>0</td>\n",
       "      <td>2015-08-16 16:00:00</td>\n",
       "      <td>None</td>\n",
       "      <td>TakeOn</td>\n",
       "    </tr>\n",
       "  </tbody>\n",
       "</table>\n",
       "</div>"
      ],
      "text/plain": [
       "       id minute       result                   X                    Y  \\\n",
       "0   61453      7  MissedShots  0.8730000305175781   0.5829999923706055   \n",
       "2   61458     25  BlockedShot   0.909000015258789                0.675   \n",
       "3   61460     29    SavedShot   0.919000015258789                0.555   \n",
       "5   61462     38  BlockedShot  0.9230000305175782  0.48200000762939454   \n",
       "11  61709     82  MissedShots  0.7559999847412109  0.39799999237060546   \n",
       "\n",
       "                     xG           player h_a player_id   situation season  \\\n",
       "0   0.12163817882537842  Michy Batshuayi   h      1678    OpenPlay   2015   \n",
       "2   0.06413242965936661  Michy Batshuayi   h      1678    OpenPlay   2015   \n",
       "3   0.08026830852031708  Michy Batshuayi   h      1678  FromCorner   2015   \n",
       "5    0.5214341878890991  Michy Batshuayi   h      1678  FromCorner   2015   \n",
       "11  0.01823040470480919  Michy Batshuayi   a      1678    OpenPlay   2015   \n",
       "\n",
       "     shotType match_id     h_team     a_team h_goals a_goals  \\\n",
       "0    LeftFoot     1871  Marseille       Caen       0       1   \n",
       "2    LeftFoot     1871  Marseille       Caen       0       1   \n",
       "3        Head     1871  Marseille       Caen       0       1   \n",
       "5   RightFoot     1871  Marseille       Caen       0       1   \n",
       "11  RightFoot     1886      Reims  Marseille       1       0   \n",
       "\n",
       "                   date  player_assisted   lastAction  \n",
       "0   2015-08-08 23:00:00    Abdel Barrada  Throughball  \n",
       "2   2015-08-08 23:00:00  Florian Thauvin         Pass  \n",
       "3   2015-08-08 23:00:00    Abdel Barrada        Cross  \n",
       "5   2015-08-08 23:00:00             None         None  \n",
       "11  2015-08-16 16:00:00             None       TakeOn  "
      ]
     },
     "execution_count": 258,
     "metadata": {},
     "output_type": "execute_result"
    }
   ],
   "source": [
    "df.head()"
   ]
  },
  {
   "cell_type": "code",
   "execution_count": 259,
   "id": "52807302",
   "metadata": {},
   "outputs": [],
   "source": [
    "# resetting index\n",
    "df.reset_index(drop=True,inplace=True)"
   ]
  },
  {
   "cell_type": "code",
   "execution_count": 260,
   "id": "075206cb",
   "metadata": {},
   "outputs": [
    {
     "name": "stdout",
     "output_type": "stream",
     "text": [
      "<class 'pandas.core.frame.DataFrame'>\n",
      "RangeIndex: 253 entries, 0 to 252\n",
      "Data columns (total 20 columns):\n",
      " #   Column           Non-Null Count  Dtype \n",
      "---  ------           --------------  ----- \n",
      " 0   id               253 non-null    object\n",
      " 1   minute           253 non-null    object\n",
      " 2   result           253 non-null    object\n",
      " 3   X                253 non-null    object\n",
      " 4   Y                253 non-null    object\n",
      " 5   xG               253 non-null    object\n",
      " 6   player           253 non-null    object\n",
      " 7   h_a              253 non-null    object\n",
      " 8   player_id        253 non-null    object\n",
      " 9   situation        253 non-null    object\n",
      " 10  season           253 non-null    object\n",
      " 11  shotType         253 non-null    object\n",
      " 12  match_id         253 non-null    object\n",
      " 13  h_team           253 non-null    object\n",
      " 14  a_team           253 non-null    object\n",
      " 15  h_goals          253 non-null    object\n",
      " 16  a_goals          253 non-null    object\n",
      " 17  date             253 non-null    object\n",
      " 18  player_assisted  205 non-null    object\n",
      " 19  lastAction       253 non-null    object\n",
      "dtypes: object(20)\n",
      "memory usage: 39.7+ KB\n"
     ]
    }
   ],
   "source": [
    "df.info()"
   ]
  },
  {
   "cell_type": "code",
   "execution_count": 261,
   "id": "e38aae0b",
   "metadata": {},
   "outputs": [],
   "source": [
    "# backup\n",
    "df2 = df.copy()"
   ]
  },
  {
   "cell_type": "code",
   "execution_count": 267,
   "id": "b0fad4cc",
   "metadata": {},
   "outputs": [],
   "source": [
    "df['X'] = pd.to_numeric(df['X'])*100\n",
    "df['Y'] = pd.to_numeric(df['Y'])*100\n",
    "df['xG'] = pd.to_numeric(df['xG'])"
   ]
  },
  {
   "cell_type": "code",
   "execution_count": 269,
   "id": "aac534c1",
   "metadata": {},
   "outputs": [
    {
     "data": {
      "text/plain": [
       "39.91443486139178"
      ]
     },
     "execution_count": 269,
     "metadata": {},
     "output_type": "execute_result"
    }
   ],
   "source": [
    "df.xG.sum()"
   ]
  },
  {
   "cell_type": "code",
   "execution_count": 233,
   "id": "052fdc99",
   "metadata": {
    "scrolled": false
   },
   "outputs": [
    {
     "data": {
      "text/plain": [
       "MissedShots    83\n",
       "SavedShot      68\n",
       "BlockedShot    55\n",
       "Goal           40\n",
       "ShotOnPost      6\n",
       "Name: result, dtype: int64"
      ]
     },
     "execution_count": 233,
     "metadata": {},
     "output_type": "execute_result"
    }
   ],
   "source": [
    "df['result'].value_counts()"
   ]
  },
  {
   "cell_type": "code",
   "execution_count": 198,
   "id": "5af10cc5",
   "metadata": {},
   "outputs": [],
   "source": [
    "df = df[df['result']!='OwnGoal'] "
   ]
  },
  {
   "cell_type": "code",
   "execution_count": 199,
   "id": "828cf48d",
   "metadata": {},
   "outputs": [],
   "source": [
    "df.reset_index(drop=True,inplace=True)"
   ]
  },
  {
   "cell_type": "code",
   "execution_count": 92,
   "id": "175e1443",
   "metadata": {
    "scrolled": true
   },
   "outputs": [
    {
     "data": {
      "text/plain": [
       "RightFoot    20\n",
       "LeftFoot     16\n",
       "Head          4\n",
       "Name: shotType, dtype: int64"
      ]
     },
     "execution_count": 92,
     "metadata": {},
     "output_type": "execute_result"
    }
   ],
   "source": [
    "df[df['result'] == 'Goal']['shotType'].value_counts()"
   ]
  },
  {
   "cell_type": "code",
   "execution_count": 234,
   "id": "3c162364",
   "metadata": {
    "scrolled": false
   },
   "outputs": [
    {
     "data": {
      "text/plain": [
       "OpenPlay      33\n",
       "FromCorner     3\n",
       "Penalty        2\n",
       "SetPiece       2\n",
       "Name: situation, dtype: int64"
      ]
     },
     "execution_count": 234,
     "metadata": {},
     "output_type": "execute_result"
    }
   ],
   "source": [
    "df[df['result'] == 'Goal']['situation'].value_counts()"
   ]
  },
  {
   "cell_type": "code",
   "execution_count": 101,
   "id": "d5ef34f2",
   "metadata": {
    "scrolled": false
   },
   "outputs": [
    {
     "data": {
      "text/plain": [
       "MissedShots    83\n",
       "SavedShot      68\n",
       "BlockedShot    55\n",
       "Goal           40\n",
       "ShotOnPost      6\n",
       "Name: result, dtype: int64"
      ]
     },
     "execution_count": 101,
     "metadata": {},
     "output_type": "execute_result"
    }
   ],
   "source": [
    "df['result'].value_counts()"
   ]
  },
  {
   "cell_type": "code",
   "execution_count": 308,
   "id": "c80da61d",
   "metadata": {},
   "outputs": [],
   "source": [
    "df = df[df['situation']!='Penalty'].reset_index(drop=True)"
   ]
  },
  {
   "cell_type": "code",
   "execution_count": 309,
   "id": "a41de56d",
   "metadata": {},
   "outputs": [],
   "source": [
    "df_missed = df[df['result']=='MissedShots'].reset_index(drop=True)\n",
    "df_saved = df[df['result']=='SavedShot'].reset_index(drop=True)\n",
    "df_blocked = df[df['result']=='BlockedShot'].reset_index(drop=True)\n",
    "df_goal = df[df['result']=='Goal'].reset_index(drop=True)\n",
    "df_post = df[df['result']=='ShotOnPost'].reset_index(drop=True)"
   ]
  },
  {
   "cell_type": "markdown",
   "id": "0f85095a",
   "metadata": {},
   "source": [
    "### Shotmap"
   ]
  },
  {
   "cell_type": "code",
   "execution_count": 316,
   "id": "ceb0bd53",
   "metadata": {
    "scrolled": true
   },
   "outputs": [
    {
     "data": {
      "image/png": "[encoded data removed]",
      "text/plain": [
       "<Figure size 864x720 with 1 Axes>"
      ]
     },
     "metadata": {},
     "output_type": "display_data"
    }
   ],
   "source": [
    "pitch = VerticalPitch(pad_bottom=0.5,\n",
    "                      half=True,  # half of a pitch\n",
    "                      goal_type='box',\n",
    "                      goal_alpha=0.8,\n",
    "                     pitch_type='opta')\n",
    "\n",
    "fig, ax = pitch.draw(figsize=(12, 10))\n",
    "\n",
    "re = pitch.scatter(df_missed['X'],df_missed['Y'],\n",
    "                   s=(df_missed[\"xG\"] * 720)+100,\n",
    "                   alpha=.8,\n",
    "                   c='#C8102E', \n",
    "                   edgecolors='#383838',  # give the markers a charcoal border\n",
    "                   marker='h',label=\"Missed\",\n",
    "                   ax=ax)\n",
    "\n",
    "re1 = pitch.scatter(df_goal[\"X\"],df_goal[\"Y\"],\n",
    "                   s=(df_goal[\"xG\"] * 720)+100,\n",
    "                   alpha=.8,\n",
    "                   c='#285229',\n",
    "                   edgecolors='#383838',\n",
    "                   marker='h',label=\"Goal\",\n",
    "                   ax=ax)\n",
    "\n",
    "re2 = pitch.scatter(df_saved[\"X\"],df_saved[\"Y\"],\n",
    "                   s=(df_saved[\"xG\"] * 720)+100,\n",
    "                   alpha=.8,\n",
    "                   c='#283b52',\n",
    "                   edgecolors='#383838',\n",
    "                   marker='h',label=\"Saved\",\n",
    "                   ax=ax)\n",
    "\n",
    "re3 = pitch.scatter(df_blocked[\"X\"],df_blocked[\"Y\"],\n",
    "                   s=(df_blocked[\"xG\"] * 720)+100,\n",
    "                   alpha=.8,\n",
    "                   c='#cccc62',\n",
    "                   edgecolors='#383838',\n",
    "                   marker='h',\n",
    "                   ax=ax,label=\"Blocked\")\n",
    "\n",
    "re3 = pitch.scatter(df_post[\"X\"],df_post[\"Y\"],\n",
    "                   s=(df_post[\"xG\"] * 720)+100,\n",
    "                   alpha=.8,\n",
    "                   c='#AA336A',\n",
    "                   edgecolors='#383838',\n",
    "                   marker='h',\n",
    "                   ax=ax,label=\"Blocked\")\n"
   ]
  },
  {
   "cell_type": "code",
   "execution_count": 318,
   "id": "09584f78",
   "metadata": {},
   "outputs": [
    {
     "data": {
      "text/plain": [
       "251"
      ]
     },
     "execution_count": 318,
     "metadata": {},
     "output_type": "execute_result"
    }
   ],
   "source": [
    "len(df)"
   ]
  },
  {
   "cell_type": "code",
   "execution_count": 321,
   "id": "0947c8e7",
   "metadata": {},
   "outputs": [
    {
     "data": {
      "text/plain": [
       "0.15296511801768584"
      ]
     },
     "execution_count": 321,
     "metadata": {},
     "output_type": "execute_result"
    }
   ],
   "source": [
    "df['xG'].sum() / len(df)"
   ]
  },
  {
   "cell_type": "code",
   "execution_count": 324,
   "id": "b1799da7",
   "metadata": {},
   "outputs": [
    {
     "data": {
      "text/plain": [
       "0.15139442231075698"
      ]
     },
     "execution_count": 324,
     "metadata": {},
     "output_type": "execute_result"
    }
   ],
   "source": [
    "len(df_goal) / len(df)"
   ]
  },
  {
   "cell_type": "code",
   "execution_count": 328,
   "id": "bebf925f",
   "metadata": {},
   "outputs": [
    {
     "data": {
      "text/plain": [
       "RightFoot    18\n",
       "LeftFoot     16\n",
       "Head          4\n",
       "Name: shotType, dtype: int64"
      ]
     },
     "execution_count": 328,
     "metadata": {},
     "output_type": "execute_result"
    }
   ],
   "source": [
    "df_goal['shotType'].value_counts()"
   ]
  },
  {
   "cell_type": "code",
   "execution_count": null,
   "id": "d70233de",
   "metadata": {},
   "outputs": [],
   "source": []
  }
 ],
 "metadata": {
  "kernelspec": {
   "display_name": "Python 3 (ipykernel)",
   "language": "python",
   "name": "python3"
  },
  "language_info": {
   "codemirror_mode": {
    "name": "ipython",
    "version": 3
   },
   "file_extension": ".py",
   "mimetype": "text/x-python",
   "name": "python",
   "nbconvert_exporter": "python",
   "pygments_lexer": "ipython3",
   "version": "3.9.7"
  }
 },
 "nbformat": 4,
 "nbformat_minor": 5
}
