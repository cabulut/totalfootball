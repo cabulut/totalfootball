{
 "cells": [
  {
   "cell_type": "code",
   "execution_count": 1,
   "id": "7433f209",
   "metadata": {},
   "outputs": [],
   "source": [
    "from understatscraper import Understat\n",
    "import pandas as pd\n",
    "import matplotlib.pyplot as plt\n",
    "import matplotlib.patches as patches\n",
    "import numpy as np\n",
    "import warnings\n",
    "warnings.filterwarnings('ignore')\n",
    "from mplsoccer.pitch import Pitch, VerticalPitch"
   ]
  },
  {
   "cell_type": "code",
   "execution_count": 2,
   "id": "b2a8c4e5",
   "metadata": {},
   "outputs": [],
   "source": [
    "understat = Understat()"
   ]
  },
  {
   "cell_type": "code",
   "execution_count": 12,
   "id": "570d0d0d",
   "metadata": {},
   "outputs": [],
   "source": [
    "# creating dataframe\n",
    "\n",
    "ids = [2015,2016,2017,2018,2019,2020,2021]\n",
    "\n",
    "df = pd.DataFrame()\n",
    "for x in ids:\n",
    "    df_firmino = understat.season('EPL', x, team='Liverpool', player='Roberto Firmino')\n",
    "    df = df.append(df_firmino)"
   ]
  },
  {
   "cell_type": "code",
   "execution_count": 18,
   "id": "123a40dc",
   "metadata": {},
   "outputs": [],
   "source": [
    "arsenal = df[(df['h_team']=='Arsenal') |(df['a_team']=='Arsenal')]"
   ]
  },
  {
   "cell_type": "code",
   "execution_count": 23,
   "id": "90eaf40d",
   "metadata": {},
   "outputs": [
    {
     "data": {
      "text/plain": [
       "BlockedShot    12\n",
       "MissedShots    10\n",
       "Goal            8\n",
       "SavedShot       4\n",
       "ShotOnPost      2\n",
       "Name: result, dtype: int64"
      ]
     },
     "execution_count": 23,
     "metadata": {},
     "output_type": "execute_result"
    }
   ],
   "source": [
    "arsenal['result'].value_counts()"
   ]
  },
  {
   "cell_type": "code",
   "execution_count": null,
   "id": "a59dce17",
   "metadata": {},
   "outputs": [],
   "source": []
  }
 ],
 "metadata": {
  "kernelspec": {
   "display_name": "Python 3 (ipykernel)",
   "language": "python",
   "name": "python3"
  },
  "language_info": {
   "codemirror_mode": {
    "name": "ipython",
    "version": 3
   },
   "file_extension": ".py",
   "mimetype": "text/x-python",
   "name": "python",
   "nbconvert_exporter": "python",
   "pygments_lexer": "ipython3",
   "version": "3.9.7"
  }
 },
 "nbformat": 4,
 "nbformat_minor": 5
}
