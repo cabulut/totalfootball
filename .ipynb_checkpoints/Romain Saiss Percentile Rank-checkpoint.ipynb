{
 "cells": [
  {
   "cell_type": "code",
   "execution_count": 24,
   "id": "1ccb583c",
   "metadata": {},
   "outputs": [],
   "source": [
    "import pandas as pd\n",
    "import numpy as np\n",
    "import warnings\n",
    "warnings.filterwarnings('ignore')\n",
    "from mplsoccer import PyPizza,add_image,FontManager\n",
    "from scipy import stats\n",
    "import math\n",
    "import matplotlib.pyplot as plt\n",
    "from urllib.request import urlopen\n",
    "from PIL import Image\n",
    "pd.set_option('display.max_columns', None)"
   ]
  },
  {
   "cell_type": "code",
   "execution_count": 4,
   "id": "abb8276c",
   "metadata": {},
   "outputs": [],
   "source": [
    "#scraping fbref data, reference to geek culture on medium\n",
    "#https://medium.com/geekculture/an-introduction-to-football-player-dashboards-using-python-and-matplotlib-eb5328dfe85f\n",
    "\n",
    "def readfromhtml(filepath):\n",
    "    df = pd.read_html(filepath)[0]\n",
    "    column_lst = list(df.columns)\n",
    "    for index in range(len(column_lst)):\n",
    "        column_lst[index] = column_lst[index][1]\n",
    "        \n",
    "    df.columns = column_lst\n",
    "    df.drop(df[df['Player'] == 'Player'].index, inplace=True)\n",
    "    df = df.fillna('0')\n",
    "    df.set_index('Rk', drop=True, inplace=True)\n",
    "    try:\n",
    "        df['Comp'] = df['Comp'].apply(lambda x: ' '.join(x.split()[1:]))\n",
    "        df['Nation'] = df['Nation'].astype(str)\n",
    "        df['Nation'] = df['Nation'].apply(lambda x: x.split()[-1])\n",
    "    except:\n",
    "        print('Error in uploading file:' + filepath)\n",
    "    finally:\n",
    "        df = df.apply(pd.to_numeric, errors='ignore')\n",
    "        return df"
   ]
  },
  {
   "cell_type": "code",
   "execution_count": 104,
   "id": "84aa8c10",
   "metadata": {},
   "outputs": [],
   "source": [
    "df1 = readfromhtml('https://fbref.com/en/comps/Big5/passing/players/Big-5-European-Leagues-Stats')"
   ]
  },
  {
   "cell_type": "code",
   "execution_count": 42,
   "id": "c09b2f75",
   "metadata": {},
   "outputs": [],
   "source": [
    "df2 = readfromhtml('https://fbref.com/en/comps/Big5/defense/players/Big-5-European-Leagues-Stats')"
   ]
  },
  {
   "cell_type": "code",
   "execution_count": 43,
   "id": "466657cb",
   "metadata": {},
   "outputs": [],
   "source": [
    "df3 = readfromhtml('https://fbref.com/en/comps/Big5/possession/players/Big-5-European-Leagues-Stats')"
   ]
  },
  {
   "cell_type": "code",
   "execution_count": 44,
   "id": "c853e047",
   "metadata": {},
   "outputs": [
    {
     "data": {
      "text/html": [
       "<div>\n",
       "<style scoped>\n",
       "    .dataframe tbody tr th:only-of-type {\n",
       "        vertical-align: middle;\n",
       "    }\n",
       "\n",
       "    .dataframe tbody tr th {\n",
       "        vertical-align: top;\n",
       "    }\n",
       "\n",
       "    .dataframe thead th {\n",
       "        text-align: right;\n",
       "    }\n",
       "</style>\n",
       "<table border=\"1\" class=\"dataframe\">\n",
       "  <thead>\n",
       "    <tr style=\"text-align: right;\">\n",
       "      <th></th>\n",
       "      <th>Player</th>\n",
       "      <th>Nation</th>\n",
       "      <th>Pos</th>\n",
       "      <th>Squad</th>\n",
       "      <th>Comp</th>\n",
       "      <th>Age</th>\n",
       "      <th>Born</th>\n",
       "      <th>90s</th>\n",
       "      <th>Touches</th>\n",
       "      <th>Def Pen</th>\n",
       "      <th>Def 3rd</th>\n",
       "      <th>Mid 3rd</th>\n",
       "      <th>Att 3rd</th>\n",
       "      <th>Att Pen</th>\n",
       "      <th>Live</th>\n",
       "      <th>Succ</th>\n",
       "      <th>Att</th>\n",
       "      <th>Succ%</th>\n",
       "      <th>#Pl</th>\n",
       "      <th>Megs</th>\n",
       "      <th>Carries</th>\n",
       "      <th>TotDist</th>\n",
       "      <th>PrgDist</th>\n",
       "      <th>Prog</th>\n",
       "      <th>1/3</th>\n",
       "      <th>CPA</th>\n",
       "      <th>Mis</th>\n",
       "      <th>Dis</th>\n",
       "      <th>Targ</th>\n",
       "      <th>Rec</th>\n",
       "      <th>Rec%</th>\n",
       "      <th>Prog</th>\n",
       "      <th>Matches</th>\n",
       "    </tr>\n",
       "    <tr>\n",
       "      <th>Rk</th>\n",
       "      <th></th>\n",
       "      <th></th>\n",
       "      <th></th>\n",
       "      <th></th>\n",
       "      <th></th>\n",
       "      <th></th>\n",
       "      <th></th>\n",
       "      <th></th>\n",
       "      <th></th>\n",
       "      <th></th>\n",
       "      <th></th>\n",
       "      <th></th>\n",
       "      <th></th>\n",
       "      <th></th>\n",
       "      <th></th>\n",
       "      <th></th>\n",
       "      <th></th>\n",
       "      <th></th>\n",
       "      <th></th>\n",
       "      <th></th>\n",
       "      <th></th>\n",
       "      <th></th>\n",
       "      <th></th>\n",
       "      <th></th>\n",
       "      <th></th>\n",
       "      <th></th>\n",
       "      <th></th>\n",
       "      <th></th>\n",
       "      <th></th>\n",
       "      <th></th>\n",
       "      <th></th>\n",
       "      <th></th>\n",
       "      <th></th>\n",
       "    </tr>\n",
       "  </thead>\n",
       "  <tbody>\n",
       "    <tr>\n",
       "      <th>2356</th>\n",
       "      <td>Romain Saïss</td>\n",
       "      <td>MAR</td>\n",
       "      <td>DF</td>\n",
       "      <td>Wolves</td>\n",
       "      <td>Premier League</td>\n",
       "      <td>31</td>\n",
       "      <td>1990</td>\n",
       "      <td>30.1</td>\n",
       "      <td>2111</td>\n",
       "      <td>303</td>\n",
       "      <td>1205</td>\n",
       "      <td>869</td>\n",
       "      <td>127</td>\n",
       "      <td>35</td>\n",
       "      <td>2061</td>\n",
       "      <td>5</td>\n",
       "      <td>8</td>\n",
       "      <td>62.5</td>\n",
       "      <td>6</td>\n",
       "      <td>1</td>\n",
       "      <td>1217</td>\n",
       "      <td>5502</td>\n",
       "      <td>2923</td>\n",
       "      <td>73</td>\n",
       "      <td>19</td>\n",
       "      <td>1</td>\n",
       "      <td>5</td>\n",
       "      <td>8</td>\n",
       "      <td>1411</td>\n",
       "      <td>1373</td>\n",
       "      <td>97.3</td>\n",
       "      <td>6</td>\n",
       "      <td>Matches</td>\n",
       "    </tr>\n",
       "  </tbody>\n",
       "</table>\n",
       "</div>"
      ],
      "text/plain": [
       "            Player Nation Pos   Squad            Comp  Age  Born   90s  \\\n",
       "Rk                                                                       \n",
       "2356  Romain Saïss    MAR  DF  Wolves  Premier League   31  1990  30.1   \n",
       "\n",
       "      Touches  Def Pen  Def 3rd  Mid 3rd  Att 3rd  Att Pen  Live  Succ  Att  \\\n",
       "Rk                                                                            \n",
       "2356     2111      303     1205      869      127       35  2061     5    8   \n",
       "\n",
       "      Succ%  #Pl  Megs  Carries  TotDist  PrgDist  Prog  1/3  CPA  Mis  Dis  \\\n",
       "Rk                                                                            \n",
       "2356   62.5    6     1     1217     5502     2923    73   19    1    5    8   \n",
       "\n",
       "      Targ   Rec  Rec%  Prog  Matches  \n",
       "Rk                                     \n",
       "2356  1411  1373  97.3     6  Matches  "
      ]
     },
     "execution_count": 44,
     "metadata": {},
     "output_type": "execute_result"
    }
   ],
   "source": [
    "df3[df3['Player']=='Romain Saïss']"
   ]
  },
  {
   "cell_type": "code",
   "execution_count": null,
   "id": "04aa773d",
   "metadata": {},
   "outputs": [],
   "source": [
    "defensive (df2)\n",
    "tklW\n",
    "Att3rd\n",
    "Def3rd\n",
    "Press\n",
    "Succ\n",
    "tkl+int\n",
    "\n",
    "possession (df3)\n",
    "\n",
    "touches\n",
    "touches att 3rd\n",
    "dribbles attempt\n",
    "dribbles #PI\n",
    "carries-tot dist\n",
    "carries-cpa"
   ]
  },
  {
   "cell_type": "code",
   "execution_count": 105,
   "id": "66f2ecde",
   "metadata": {},
   "outputs": [],
   "source": [
    "df1 = df1[['Player','Pos','Comp','Cmp%','TotDist','PrgDist','Att','Prog']]"
   ]
  },
  {
   "cell_type": "code",
   "execution_count": 107,
   "id": "a12ecd14",
   "metadata": {},
   "outputs": [],
   "source": [
    "df1.columns = ['Player','Pos','Comp','Pass%','Cmp%','Cmp%','Cmp%','TotDist','PrgDist','Att','Short Pass Att','Att','Long Pass Att','Prog']"
   ]
  },
  {
   "cell_type": "code",
   "execution_count": 110,
   "id": "f9422c5b",
   "metadata": {},
   "outputs": [],
   "source": [
    "df1 = df1[['Player','Pos','Comp','Pass%','TotDist','PrgDist','Short Pass Att','Long Pass Att','Prog']]"
   ]
  },
  {
   "cell_type": "code",
   "execution_count": 114,
   "id": "bcabc052",
   "metadata": {},
   "outputs": [],
   "source": [
    "df2 = df2[['Player','Pos','Comp','TklW','Def 3rd','Att 3rd','Press','Succ','Tkl+Int']]"
   ]
  },
  {
   "cell_type": "code",
   "execution_count": 116,
   "id": "a0751878",
   "metadata": {},
   "outputs": [],
   "source": [
    "df2.columns = ['Player','Pos','Comp','TklW','Def 3rd','Press Def 3rd','Att 3rd','Press Att 3rd','Press','Press Succ','Tkl+Int']"
   ]
  },
  {
   "cell_type": "code",
   "execution_count": 118,
   "id": "7954b5bd",
   "metadata": {},
   "outputs": [],
   "source": [
    "df2 = df2[['Player','Pos','Comp','TklW','Press Def 3rd','Press Att 3rd','Press','Press Succ','Tkl+Int']]"
   ]
  },
  {
   "cell_type": "code",
   "execution_count": null,
   "id": "c6dd2f16",
   "metadata": {},
   "outputs": [],
   "source": []
  }
 ],
 "metadata": {
  "kernelspec": {
   "display_name": "Python 3 (ipykernel)",
   "language": "python",
   "name": "python3"
  },
  "language_info": {
   "codemirror_mode": {
    "name": "ipython",
    "version": 3
   },
   "file_extension": ".py",
   "mimetype": "text/x-python",
   "name": "python",
   "nbconvert_exporter": "python",
   "pygments_lexer": "ipython3",
   "version": "3.9.7"
  }
 },
 "nbformat": 4,
 "nbformat_minor": 5
}
