{
 "cells": [
  {
   "cell_type": "code",
   "execution_count": 181,
   "id": "9f490834",
   "metadata": {},
   "outputs": [],
   "source": [
    "#importing packages\n",
    "\n",
    "import requests\n",
    "import pandas as pd\n",
    "from bs4 import BeautifulSoup\n",
    "import json\n",
    "import matplotlib.pyplot as plt\n",
    "import matplotlib as mpl\n",
    "from mplsoccer.pitch import Pitch, VerticalPitch\n",
    "from mplsoccer.utils import FontManager"
   ]
  },
  {
   "cell_type": "code",
   "execution_count": 125,
   "id": "35128bff",
   "metadata": {},
   "outputs": [
    {
     "name": "stdout",
     "output_type": "stream",
     "text": [
      "Insert the match id: 16599\n"
     ]
    }
   ],
   "source": [
    "#scraping\n",
    "\n",
    "main_url = 'https://understat.com/match/'\n",
    "match_id = str(input(\"Insert the match id: \"))\n",
    "\n",
    "url = main_url + match_id"
   ]
  },
  {
   "cell_type": "code",
   "execution_count": 126,
   "id": "d339971d",
   "metadata": {},
   "outputs": [
    {
     "data": {
      "text/plain": [
       "'https://understat.com/match/16599'"
      ]
     },
     "execution_count": 126,
     "metadata": {},
     "output_type": "execute_result"
    }
   ],
   "source": [
    "url"
   ]
  },
  {
   "cell_type": "code",
   "execution_count": 127,
   "id": "2851a1da",
   "metadata": {},
   "outputs": [],
   "source": [
    "res = requests.get(url)\n",
    "soup = BeautifulSoup(res.content,'lxml')\n",
    "scripts = soup.find_all('script')"
   ]
  },
  {
   "cell_type": "code",
   "execution_count": 128,
   "id": "03cb8834",
   "metadata": {},
   "outputs": [],
   "source": [
    "#shot data\n",
    "strings = scripts[1].string"
   ]
  },
  {
   "cell_type": "code",
   "execution_count": 129,
   "id": "160afb71",
   "metadata": {},
   "outputs": [],
   "source": [
    "#strip symbols to have json data\n",
    "\n",
    "ind_start = strings.index(\"('\")+2\n",
    "ind_end = strings.index(\"')\")\n",
    "\n",
    "json_data = strings[ind_start:ind_end]\n",
    "json_data = json_data.encode('utf8').decode('unicode_escape')\n",
    "\n",
    "#convert string to json format\n",
    "data = json.loads(json_data)"
   ]
  },
  {
   "cell_type": "code",
   "execution_count": 130,
   "id": "c9e320ba",
   "metadata": {},
   "outputs": [],
   "source": [
    "x = []\n",
    "y = []\n",
    "xg = []\n",
    "team = []\n",
    "result = []\n",
    "\n",
    "data_away = data['a']\n",
    "data_home = data['h']\n",
    "\n",
    "for index in range(len(data_home)):\n",
    "    for key in data_home[index]:\n",
    "        if key =='X':\n",
    "            x.append(data_home[index][key])\n",
    "        if key =='Y':\n",
    "            y.append(data_home[index][key])\n",
    "        if key =='xG':\n",
    "            xg.append(data_home[index][key])\n",
    "        if key == 'h_team':\n",
    "            team.append(data_home[index][key])\n",
    "        if key == \"result\":\n",
    "            result.append(data_home[index][key])\n",
    "            \n",
    "for index in range(len(data_away)):\n",
    "    for key in data_away[index]:\n",
    "        if key =='X':\n",
    "            x.append(data_away[index][key])\n",
    "        if key =='Y':\n",
    "            y.append(data_away[index][key])\n",
    "        if key =='xG':\n",
    "            xg.append(data_away[index][key])\n",
    "        if key == 'a_team':\n",
    "            team.append(data_away[index][key])\n",
    "        if key == \"result\":\n",
    "            result.append(data_away[index][key])"
   ]
  },
  {
   "cell_type": "code",
   "execution_count": 131,
   "id": "be87d28f",
   "metadata": {},
   "outputs": [],
   "source": [
    "#dataframe\n",
    "\n",
    "cols = ['x','y','xg','team','result'] # column names\n",
    "df = pd.DataFrame([x,y,xg,team,result],index=cols) #creating dataframe\n",
    "df = df.T #transpose the dataframe"
   ]
  },
  {
   "cell_type": "code",
   "execution_count": 132,
   "id": "dede8125",
   "metadata": {
    "scrolled": false
   },
   "outputs": [
    {
     "data": {
      "text/html": [
       "<div>\n",
       "<style scoped>\n",
       "    .dataframe tbody tr th:only-of-type {\n",
       "        vertical-align: middle;\n",
       "    }\n",
       "\n",
       "    .dataframe tbody tr th {\n",
       "        vertical-align: top;\n",
       "    }\n",
       "\n",
       "    .dataframe thead th {\n",
       "        text-align: right;\n",
       "    }\n",
       "</style>\n",
       "<table border=\"1\" class=\"dataframe\">\n",
       "  <thead>\n",
       "    <tr style=\"text-align: right;\">\n",
       "      <th></th>\n",
       "      <th>x</th>\n",
       "      <th>y</th>\n",
       "      <th>xg</th>\n",
       "      <th>team</th>\n",
       "      <th>result</th>\n",
       "    </tr>\n",
       "  </thead>\n",
       "  <tbody>\n",
       "    <tr>\n",
       "      <th>0</th>\n",
       "      <td>0.9130000305175782</td>\n",
       "      <td>0.3970000076293945</td>\n",
       "      <td>0.08086203038692474</td>\n",
       "      <td>Crystal Palace</td>\n",
       "      <td>SavedShot</td>\n",
       "    </tr>\n",
       "    <tr>\n",
       "      <th>1</th>\n",
       "      <td>0.9269999694824219</td>\n",
       "      <td>0.335</td>\n",
       "      <td>0.2938612401485443</td>\n",
       "      <td>Crystal Palace</td>\n",
       "      <td>SavedShot</td>\n",
       "    </tr>\n",
       "    <tr>\n",
       "      <th>2</th>\n",
       "      <td>0.955999984741211</td>\n",
       "      <td>0.47</td>\n",
       "      <td>0.6055403351783752</td>\n",
       "      <td>Crystal Palace</td>\n",
       "      <td>MissedShots</td>\n",
       "    </tr>\n",
       "    <tr>\n",
       "      <th>3</th>\n",
       "      <td>0.9569999694824218</td>\n",
       "      <td>0.46700000762939453</td>\n",
       "      <td>0.10185090452432632</td>\n",
       "      <td>Crystal Palace</td>\n",
       "      <td>SavedShot</td>\n",
       "    </tr>\n",
       "    <tr>\n",
       "      <th>4</th>\n",
       "      <td>0.919000015258789</td>\n",
       "      <td>0.5379999923706055</td>\n",
       "      <td>0.4071469008922577</td>\n",
       "      <td>Crystal Palace</td>\n",
       "      <td>Goal</td>\n",
       "    </tr>\n",
       "  </tbody>\n",
       "</table>\n",
       "</div>"
      ],
      "text/plain": [
       "                    x                    y                   xg  \\\n",
       "0  0.9130000305175782   0.3970000076293945  0.08086203038692474   \n",
       "1  0.9269999694824219                0.335   0.2938612401485443   \n",
       "2   0.955999984741211                 0.47   0.6055403351783752   \n",
       "3  0.9569999694824218  0.46700000762939453  0.10185090452432632   \n",
       "4   0.919000015258789   0.5379999923706055   0.4071469008922577   \n",
       "\n",
       "             team       result  \n",
       "0  Crystal Palace    SavedShot  \n",
       "1  Crystal Palace    SavedShot  \n",
       "2  Crystal Palace  MissedShots  \n",
       "3  Crystal Palace    SavedShot  \n",
       "4  Crystal Palace         Goal  "
      ]
     },
     "execution_count": 132,
     "metadata": {},
     "output_type": "execute_result"
    }
   ],
   "source": [
    "df.head()"
   ]
  },
  {
   "cell_type": "code",
   "execution_count": 133,
   "id": "2b5bffca",
   "metadata": {},
   "outputs": [],
   "source": [
    "df['x']= (pd.to_numeric(df['x'])/100)*120*100"
   ]
  },
  {
   "cell_type": "code",
   "execution_count": 134,
   "id": "5e7a1dd4",
   "metadata": {},
   "outputs": [],
   "source": [
    "df['y']= (pd.to_numeric(df['y'])/100)*80*100"
   ]
  },
  {
   "cell_type": "code",
   "execution_count": 135,
   "id": "fc931a05",
   "metadata": {},
   "outputs": [],
   "source": [
    "df['xg'] = pd.to_numeric(df['xg'])"
   ]
  },
  {
   "cell_type": "code",
   "execution_count": 165,
   "id": "05b06a96",
   "metadata": {},
   "outputs": [],
   "source": [
    "df_missed = df[(df.team==\"Liverpool\") & (df.result==\"MissedShots\")]\n",
    "df_saved = df[(df.team==\"Liverpool\") & (df.result==\"SavedShot\")]\n",
    "df_goal = df[(df.team==\"Liverpool\") & (df.result==\"Goal\")]\n",
    "df_blocked = df[(df.team==\"Liverpool\") & (df.result==\"BlockedShot\")]"
   ]
  },
  {
   "cell_type": "markdown",
   "id": "b4b5a983",
   "metadata": {},
   "source": [
    "## Visualization"
   ]
  },
  {
   "cell_type": "code",
   "execution_count": 180,
   "id": "bbed3aea",
   "metadata": {},
   "outputs": [
    {
     "data": {
      "image/png": "[encoded data removed]",
      "text/plain": [
       "<Figure size 864x720 with 1 Axes>"
      ]
     },
     "metadata": {},
     "output_type": "display_data"
    }
   ],
   "source": [
    "\n",
    "pitch = VerticalPitch(pad_bottom=0.5,  # pitch extends slightly below halfway line\n",
    "                      half=True,  # half of a pitch\n",
    "                      goal_type='box',\n",
    "                      goal_alpha=0.8)  # control the goal transparency\n",
    "fig, ax = pitch.draw(figsize=(12, 10))\n",
    "plt.gca().invert_yaxis()\n",
    "sc = pitch.scatter(df_missed[\"x\"],df_missed[\"y\"],\n",
    "                   # size varies between 100 and 1000 (points squared)\n",
    "                   s=(df_missed[\"xg\"] * 900),\n",
    "                   alpha=.8,\n",
    "                   c='#C8102E',  # color for scatter in hex format\n",
    "                   edgecolors='#383838',  # give the markers a charcoal border\n",
    "                   marker='h',label=\"Missed\",\n",
    "                   ax=ax)\n",
    "\n",
    "sc1 = pitch.scatter(df_saved[\"x\"],df_saved[\"y\"],\n",
    "                   # size varies between 100 and 1000 (points squared)\n",
    "                   s=(df_saved[\"xg\"] * 900),\n",
    "                   alpha=.8,\n",
    "                   c='#283b52',  # color for scatter in hex format\n",
    "                   edgecolors='#383838',  # give the markers a charcoal border\n",
    "                   marker='h',label=\"Saved\",\n",
    "                   ax=ax)\n",
    "\n",
    "sc2 = pitch.scatter(df_goal[\"x\"],df_goal[\"y\"],\n",
    "                   # size varies between 100 and 1000 (points squared)\n",
    "                   s=(df_goal[\"xg\"] * 900),\n",
    "                   alpha=.8,\n",
    "                   c='#285229',  # color for scatter in hex format\n",
    "                   edgecolors='#383838',  # give the markers a charcoal border\n",
    "                   marker='football',label=\"Goal\",\n",
    "                   ax=ax)\n",
    "\n",
    "sc3 = pitch.scatter(df_blocked[\"x\"],df_blocked[\"y\"],\n",
    "                   # size varies between 100 and 1000 (points squared)\n",
    "                   s=(df_blocked[\"xg\"] * 900),\n",
    "                   alpha=.8,\n",
    "                   c='#cccc62',  # color for scatter in hex format\n",
    "                   edgecolors='#383838',  # give the markers a charcoal border\n",
    "                   marker='h',\n",
    "                   ax=ax,label=\"Blocked\")\n",
    "\n",
    "ax.legend()\n",
    "\n",
    "txt = ax.text(x=40, y=80, s='Liverpool vs Crystal Palace',\n",
    "              size=30,\n",
    "              color=pitch.line_color,\n",
    "              va='center', ha='center')"
   ]
  },
  {
   "cell_type": "code",
   "execution_count": null,
   "id": "7807186e",
   "metadata": {},
   "outputs": [],
   "source": []
  }
 ],
 "metadata": {
  "kernelspec": {
   "display_name": "Python 3 (ipykernel)",
   "language": "python",
   "name": "python3"
  },
  "language_info": {
   "codemirror_mode": {
    "name": "ipython",
    "version": 3
   },
   "file_extension": ".py",
   "mimetype": "text/x-python",
   "name": "python",
   "nbconvert_exporter": "python",
   "pygments_lexer": "ipython3",
   "version": "3.9.7"
  }
 },
 "nbformat": 4,
 "nbformat_minor": 5
}
