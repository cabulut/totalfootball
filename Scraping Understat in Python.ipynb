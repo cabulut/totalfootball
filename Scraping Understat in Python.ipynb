{
 "cells": [
  {
   "cell_type": "code",
   "execution_count": 102,
   "id": "8b2771a5",
   "metadata": {},
   "outputs": [],
   "source": [
    "#importing packages\n",
    "\n",
    "import requests\n",
    "import pandas as pd\n",
    "from bs4 import BeautifulSoup\n",
    "import json\n",
    "import matplotlib.pyplot as plt\n",
    "import matplotlib as mpl\n",
    "from mplsoccer.pitch import Pitch, VerticalPitch\n",
    "from mplsoccer.utils import FontManager\n"
   ]
  },
  {
   "cell_type": "code",
   "execution_count": 125,
   "id": "93e20caf",
   "metadata": {},
   "outputs": [
    {
     "name": "stdout",
     "output_type": "stream",
     "text": [
      "Insert the match id: 16599\n"
     ]
    }
   ],
   "source": [
    "#scraping\n",
    "\n",
    "main_url = 'https://understat.com/match/'\n",
    "match_id = str(input(\"Insert the match id: \"))\n",
    "\n",
    "url = main_url + match_id"
   ]
  },
  {
   "cell_type": "code",
   "execution_count": 126,
   "id": "cdb851d5",
   "metadata": {},
   "outputs": [
    {
     "data": {
      "text/plain": [
       "'https://understat.com/match/16599'"
      ]
     },
     "execution_count": 126,
     "metadata": {},
     "output_type": "execute_result"
    }
   ],
   "source": [
    "url"
   ]
  },
  {
   "cell_type": "code",
   "execution_count": 127,
   "id": "ca4af0e0",
   "metadata": {},
   "outputs": [],
   "source": [
    "res = requests.get(url)\n",
    "soup = BeautifulSoup(res.content,'lxml')\n",
    "scripts = soup.find_all('script')"
   ]
  },
  {
   "cell_type": "code",
   "execution_count": 128,
   "id": "fd5b09b4",
   "metadata": {},
   "outputs": [],
   "source": [
    "#shot data\n",
    "strings = scripts[1].string"
   ]
  },
  {
   "cell_type": "code",
   "execution_count": 129,
   "id": "6825c509",
   "metadata": {},
   "outputs": [],
   "source": [
    "#strip symbols to have json data\n",
    "\n",
    "ind_start = strings.index(\"('\")+2\n",
    "ind_end = strings.index(\"')\")\n",
    "\n",
    "json_data = strings[ind_start:ind_end]\n",
    "json_data = json_data.encode('utf8').decode('unicode_escape')\n",
    "\n",
    "#convert string to json format\n",
    "data = json.loads(json_data)"
   ]
  },
  {
   "cell_type": "code",
   "execution_count": 130,
   "id": "30aaec05",
   "metadata": {},
   "outputs": [],
   "source": [
    "x = []\n",
    "y = []\n",
    "xg = []\n",
    "team = []\n",
    "result = []\n",
    "\n",
    "data_away = data['a']\n",
    "data_home = data['h']\n",
    "\n",
    "for index in range(len(data_home)):\n",
    "    for key in data_home[index]:\n",
    "        if key =='X':\n",
    "            x.append(data_home[index][key])\n",
    "        if key =='Y':\n",
    "            y.append(data_home[index][key])\n",
    "        if key =='xG':\n",
    "            xg.append(data_home[index][key])\n",
    "        if key == 'h_team':\n",
    "            team.append(data_home[index][key])\n",
    "        if key == \"result\":\n",
    "            result.append(data_home[index][key])\n",
    "            \n",
    "for index in range(len(data_away)):\n",
    "    for key in data_away[index]:\n",
    "        if key =='X':\n",
    "            x.append(data_away[index][key])\n",
    "        if key =='Y':\n",
    "            y.append(data_away[index][key])\n",
    "        if key =='xG':\n",
    "            xg.append(data_away[index][key])\n",
    "        if key == 'a_team':\n",
    "            team.append(data_away[index][key])\n",
    "        if key == \"result\":\n",
    "            result.append(data_away[index][key])"
   ]
  },
  {
   "cell_type": "code",
   "execution_count": 131,
   "id": "7476c708",
   "metadata": {},
   "outputs": [],
   "source": [
    "#dataframe\n",
    "\n",
    "cols = ['x','y','xg','team','result'] # column names\n",
    "df = pd.DataFrame([x,y,xg,team,result],index=cols) #creating dataframe\n",
    "df = df.T #transpose the dataframe"
   ]
  },
  {
   "cell_type": "code",
   "execution_count": 132,
   "id": "d6b6eb60",
   "metadata": {
    "scrolled": false
   },
   "outputs": [
    {
     "data": {
      "text/html": [
       "<div>\n",
       "<style scoped>\n",
       "    .dataframe tbody tr th:only-of-type {\n",
       "        vertical-align: middle;\n",
       "    }\n",
       "\n",
       "    .dataframe tbody tr th {\n",
       "        vertical-align: top;\n",
       "    }\n",
       "\n",
       "    .dataframe thead th {\n",
       "        text-align: right;\n",
       "    }\n",
       "</style>\n",
       "<table border=\"1\" class=\"dataframe\">\n",
       "  <thead>\n",
       "    <tr style=\"text-align: right;\">\n",
       "      <th></th>\n",
       "      <th>x</th>\n",
       "      <th>y</th>\n",
       "      <th>xg</th>\n",
       "      <th>team</th>\n",
       "      <th>result</th>\n",
       "    </tr>\n",
       "  </thead>\n",
       "  <tbody>\n",
       "    <tr>\n",
       "      <th>0</th>\n",
       "      <td>0.9130000305175782</td>\n",
       "      <td>0.3970000076293945</td>\n",
       "      <td>0.08086203038692474</td>\n",
       "      <td>Crystal Palace</td>\n",
       "      <td>SavedShot</td>\n",
       "    </tr>\n",
       "    <tr>\n",
       "      <th>1</th>\n",
       "      <td>0.9269999694824219</td>\n",
       "      <td>0.335</td>\n",
       "      <td>0.2938612401485443</td>\n",
       "      <td>Crystal Palace</td>\n",
       "      <td>SavedShot</td>\n",
       "    </tr>\n",
       "    <tr>\n",
       "      <th>2</th>\n",
       "      <td>0.955999984741211</td>\n",
       "      <td>0.47</td>\n",
       "      <td>0.6055403351783752</td>\n",
       "      <td>Crystal Palace</td>\n",
       "      <td>MissedShots</td>\n",
       "    </tr>\n",
       "    <tr>\n",
       "      <th>3</th>\n",
       "      <td>0.9569999694824218</td>\n",
       "      <td>0.46700000762939453</td>\n",
       "      <td>0.10185090452432632</td>\n",
       "      <td>Crystal Palace</td>\n",
       "      <td>SavedShot</td>\n",
       "    </tr>\n",
       "    <tr>\n",
       "      <th>4</th>\n",
       "      <td>0.919000015258789</td>\n",
       "      <td>0.5379999923706055</td>\n",
       "      <td>0.4071469008922577</td>\n",
       "      <td>Crystal Palace</td>\n",
       "      <td>Goal</td>\n",
       "    </tr>\n",
       "  </tbody>\n",
       "</table>\n",
       "</div>"
      ],
      "text/plain": [
       "                    x                    y                   xg  \\\n",
       "0  0.9130000305175782   0.3970000076293945  0.08086203038692474   \n",
       "1  0.9269999694824219                0.335   0.2938612401485443   \n",
       "2   0.955999984741211                 0.47   0.6055403351783752   \n",
       "3  0.9569999694824218  0.46700000762939453  0.10185090452432632   \n",
       "4   0.919000015258789   0.5379999923706055   0.4071469008922577   \n",
       "\n",
       "             team       result  \n",
       "0  Crystal Palace    SavedShot  \n",
       "1  Crystal Palace    SavedShot  \n",
       "2  Crystal Palace  MissedShots  \n",
       "3  Crystal Palace    SavedShot  \n",
       "4  Crystal Palace         Goal  "
      ]
     },
     "execution_count": 132,
     "metadata": {},
     "output_type": "execute_result"
    }
   ],
   "source": [
    "df.head()"
   ]
  },
  {
   "cell_type": "code",
   "execution_count": 133,
   "id": "ce8f33f1",
   "metadata": {},
   "outputs": [],
   "source": [
    "df['x']= (pd.to_numeric(df['x'])/100)*120*100"
   ]
  },
  {
   "cell_type": "code",
   "execution_count": 134,
   "id": "95d07052",
   "metadata": {},
   "outputs": [],
   "source": [
    "df['y']= (pd.to_numeric(df['y'])/100)*80*100"
   ]
  },
  {
   "cell_type": "code",
   "execution_count": 135,
   "id": "f6451905",
   "metadata": {},
   "outputs": [],
   "source": [
    "df['xg'] = pd.to_numeric(df['xg'])"
   ]
  },
  {
   "cell_type": "markdown",
   "id": "0e1edde1",
   "metadata": {},
   "source": [
    "## Visualization"
   ]
  },
  {
   "cell_type": "code",
   "execution_count": 141,
   "id": "12414015",
   "metadata": {},
   "outputs": [
    {
     "data": {
      "image/png": "[encoded data removed]",
      "text/plain": [
       "<Figure size 864x720 with 1 Axes>"
      ]
     },
     "metadata": {},
     "output_type": "display_data"
    }
   ],
   "source": [
    "\n",
    "pitch = VerticalPitch(pad_bottom=0.5,  # pitch extends slightly below halfway line\n",
    "                      half=True,  # half of a pitch\n",
    "                      goal_type='box',\n",
    "                      goal_alpha=0.8)  # control the goal transparency\n",
    "fig, ax = pitch.draw(figsize=(12, 10))\n",
    "plt.gca().invert_yaxis()\n",
    "sc = pitch.scatter(df[df.team==\"Liverpool\"][\"x\"],df[df.team==\"Liverpool\"][\"y\"],\n",
    "                   # size varies between 100 and 1000 (points squared)\n",
    "                   s=(df[df.team==\"Liverpool\"][\"xg\"] * 900),\n",
    "                   alpha=.8,\n",
    "                   c='#C8102E',  # color for scatter in hex format\n",
    "                   edgecolors='#383838',  # give the markers a charcoal border\n",
    "                   marker='h',\n",
    "                   ax=ax)\n",
    "\n",
    "txt = ax.text(x=40, y=80, s='Liverpool Shots vs. Crystal Palace',\n",
    "              size=30,\n",
    "              color=pitch.line_color,\n",
    "              va='center', ha='center')"
   ]
  },
  {
   "cell_type": "code",
   "execution_count": 140,
   "id": "ae63234a",
   "metadata": {},
   "outputs": [
    {
     "data": {
      "text/html": [
       "<div>\n",
       "<style scoped>\n",
       "    .dataframe tbody tr th:only-of-type {\n",
       "        vertical-align: middle;\n",
       "    }\n",
       "\n",
       "    .dataframe tbody tr th {\n",
       "        vertical-align: top;\n",
       "    }\n",
       "\n",
       "    .dataframe thead th {\n",
       "        text-align: right;\n",
       "    }\n",
       "</style>\n",
       "<table border=\"1\" class=\"dataframe\">\n",
       "  <thead>\n",
       "    <tr style=\"text-align: right;\">\n",
       "      <th></th>\n",
       "      <th>x</th>\n",
       "      <th>y</th>\n",
       "      <th>xg</th>\n",
       "      <th>team</th>\n",
       "      <th>result</th>\n",
       "    </tr>\n",
       "  </thead>\n",
       "  <tbody>\n",
       "    <tr>\n",
       "      <th>8</th>\n",
       "      <td>101.760004</td>\n",
       "      <td>55.679999</td>\n",
       "      <td>0.029698</td>\n",
       "      <td>Liverpool</td>\n",
       "      <td>MissedShots</td>\n",
       "    </tr>\n",
       "    <tr>\n",
       "      <th>9</th>\n",
       "      <td>93.839996</td>\n",
       "      <td>34.160001</td>\n",
       "      <td>0.031107</td>\n",
       "      <td>Liverpool</td>\n",
       "      <td>SavedShot</td>\n",
       "    </tr>\n",
       "    <tr>\n",
       "      <th>10</th>\n",
       "      <td>110.160004</td>\n",
       "      <td>42.720001</td>\n",
       "      <td>0.089214</td>\n",
       "      <td>Liverpool</td>\n",
       "      <td>Goal</td>\n",
       "    </tr>\n",
       "    <tr>\n",
       "      <th>11</th>\n",
       "      <td>103.319998</td>\n",
       "      <td>57.920001</td>\n",
       "      <td>0.043177</td>\n",
       "      <td>Liverpool</td>\n",
       "      <td>MissedShots</td>\n",
       "    </tr>\n",
       "    <tr>\n",
       "      <th>12</th>\n",
       "      <td>93.360004</td>\n",
       "      <td>46.720001</td>\n",
       "      <td>0.031827</td>\n",
       "      <td>Liverpool</td>\n",
       "      <td>MissedShots</td>\n",
       "    </tr>\n",
       "    <tr>\n",
       "      <th>13</th>\n",
       "      <td>116.519998</td>\n",
       "      <td>31.200000</td>\n",
       "      <td>0.100035</td>\n",
       "      <td>Liverpool</td>\n",
       "      <td>MissedShots</td>\n",
       "    </tr>\n",
       "    <tr>\n",
       "      <th>14</th>\n",
       "      <td>93.719998</td>\n",
       "      <td>21.120000</td>\n",
       "      <td>0.017895</td>\n",
       "      <td>Liverpool</td>\n",
       "      <td>MissedShots</td>\n",
       "    </tr>\n",
       "    <tr>\n",
       "      <th>15</th>\n",
       "      <td>102.600000</td>\n",
       "      <td>41.200000</td>\n",
       "      <td>0.095068</td>\n",
       "      <td>Liverpool</td>\n",
       "      <td>MissedShots</td>\n",
       "    </tr>\n",
       "    <tr>\n",
       "      <th>16</th>\n",
       "      <td>89.400000</td>\n",
       "      <td>54.400000</td>\n",
       "      <td>0.013146</td>\n",
       "      <td>Liverpool</td>\n",
       "      <td>SavedShot</td>\n",
       "    </tr>\n",
       "    <tr>\n",
       "      <th>17</th>\n",
       "      <td>113.519998</td>\n",
       "      <td>31.920001</td>\n",
       "      <td>0.116701</td>\n",
       "      <td>Liverpool</td>\n",
       "      <td>Goal</td>\n",
       "    </tr>\n",
       "    <tr>\n",
       "      <th>18</th>\n",
       "      <td>95.160004</td>\n",
       "      <td>21.360001</td>\n",
       "      <td>0.018618</td>\n",
       "      <td>Liverpool</td>\n",
       "      <td>SavedShot</td>\n",
       "    </tr>\n",
       "    <tr>\n",
       "      <th>19</th>\n",
       "      <td>103.560004</td>\n",
       "      <td>40.239999</td>\n",
       "      <td>0.114868</td>\n",
       "      <td>Liverpool</td>\n",
       "      <td>MissedShots</td>\n",
       "    </tr>\n",
       "    <tr>\n",
       "      <th>20</th>\n",
       "      <td>89.519998</td>\n",
       "      <td>44.400000</td>\n",
       "      <td>0.022464</td>\n",
       "      <td>Liverpool</td>\n",
       "      <td>BlockedShot</td>\n",
       "    </tr>\n",
       "    <tr>\n",
       "      <th>21</th>\n",
       "      <td>85.919998</td>\n",
       "      <td>56.320001</td>\n",
       "      <td>0.013357</td>\n",
       "      <td>Liverpool</td>\n",
       "      <td>SavedShot</td>\n",
       "    </tr>\n",
       "    <tr>\n",
       "      <th>22</th>\n",
       "      <td>106.200000</td>\n",
       "      <td>40.000000</td>\n",
       "      <td>0.761169</td>\n",
       "      <td>Liverpool</td>\n",
       "      <td>Goal</td>\n",
       "    </tr>\n",
       "  </tbody>\n",
       "</table>\n",
       "</div>"
      ],
      "text/plain": [
       "             x          y        xg       team       result\n",
       "8   101.760004  55.679999  0.029698  Liverpool  MissedShots\n",
       "9    93.839996  34.160001  0.031107  Liverpool    SavedShot\n",
       "10  110.160004  42.720001  0.089214  Liverpool         Goal\n",
       "11  103.319998  57.920001  0.043177  Liverpool  MissedShots\n",
       "12   93.360004  46.720001  0.031827  Liverpool  MissedShots\n",
       "13  116.519998  31.200000  0.100035  Liverpool  MissedShots\n",
       "14   93.719998  21.120000  0.017895  Liverpool  MissedShots\n",
       "15  102.600000  41.200000  0.095068  Liverpool  MissedShots\n",
       "16   89.400000  54.400000  0.013146  Liverpool    SavedShot\n",
       "17  113.519998  31.920001  0.116701  Liverpool         Goal\n",
       "18   95.160004  21.360001  0.018618  Liverpool    SavedShot\n",
       "19  103.560004  40.239999  0.114868  Liverpool  MissedShots\n",
       "20   89.519998  44.400000  0.022464  Liverpool  BlockedShot\n",
       "21   85.919998  56.320001  0.013357  Liverpool    SavedShot\n",
       "22  106.200000  40.000000  0.761169  Liverpool         Goal"
      ]
     },
     "execution_count": 140,
     "metadata": {},
     "output_type": "execute_result"
    }
   ],
   "source": [
    "df[df.team==\"Liverpool\"]"
   ]
  },
  {
   "cell_type": "code",
   "execution_count": 113,
   "id": "f1e7a924",
   "metadata": {},
   "outputs": [
    {
     "data": {
      "text/plain": [
       "array(['MissedShots', 'BlockedShot', 'SavedShot', 'Goal'], dtype=object)"
      ]
     },
     "execution_count": 113,
     "metadata": {},
     "output_type": "execute_result"
    }
   ],
   "source": [
    "df['result'].unique()"
   ]
  },
  {
   "cell_type": "code",
   "execution_count": 111,
   "id": "a22cf46a",
   "metadata": {},
   "outputs": [
    {
     "data": {
      "text/plain": [
       "9     144.487078\n",
       "10    112.610272\n",
       "11    148.105218\n",
       "12    178.091107\n",
       "13    117.664366\n",
       "14    124.695558\n",
       "15    156.208929\n",
       "16    116.428235\n",
       "17    113.496876\n",
       "18    152.402257\n",
       "19    131.208089\n",
       "20    146.749632\n",
       "21    149.738358\n",
       "22    112.861846\n",
       "23    111.972626\n",
       "Name: xg, dtype: float64"
      ]
     },
     "execution_count": 111,
     "metadata": {},
     "output_type": "execute_result"
    }
   ],
   "source": [
    "(df[df.team==\"Chelsea\"][\"xg\"] * 900) + 100"
   ]
  },
  {
   "cell_type": "code",
   "execution_count": null,
   "id": "36dfde23",
   "metadata": {},
   "outputs": [],
   "source": []
  }
 ],
 "metadata": {
  "kernelspec": {
   "display_name": "Python 3 (ipykernel)",
   "language": "python",
   "name": "python3"
  },
  "language_info": {
   "codemirror_mode": {
    "name": "ipython",
    "version": 3
   },
   "file_extension": ".py",
   "mimetype": "text/x-python",
   "name": "python",
   "nbconvert_exporter": "python",
   "pygments_lexer": "ipython3",
   "version": "3.9.7"
  }
 },
 "nbformat": 4,
 "nbformat_minor": 5
}
