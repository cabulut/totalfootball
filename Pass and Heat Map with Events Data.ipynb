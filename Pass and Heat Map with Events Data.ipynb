{
 "cells": [
  {
   "cell_type": "code",
   "execution_count": 18,
   "id": "549c2387",
   "metadata": {},
   "outputs": [],
   "source": [
    "import pandas as pd\n",
    "import numpy as np\n",
    "import matplotlib.pyplot as plt\n",
    "import seaborn as sns\n",
    "from mplsoccer import Pitch, VerticalPitch"
   ]
  },
  {
   "cell_type": "code",
   "execution_count": 3,
   "id": "5cbe5f98",
   "metadata": {},
   "outputs": [],
   "source": [
    "df = pd.read_csv('events.csv')"
   ]
  },
  {
   "cell_type": "code",
   "execution_count": 6,
   "id": "e84138c1",
   "metadata": {},
   "outputs": [
    {
     "data": {
      "text/plain": [
       "Accurate Pass      64\n",
       "Clearance          10\n",
       "Interception        8\n",
       "Inaccurate Pass     6\n",
       "Tackle              4\n",
       "Name: Event, dtype: int64"
      ]
     },
     "execution_count": 6,
     "metadata": {},
     "output_type": "execute_result"
    }
   ],
   "source": [
    "df['Event'].value_counts()"
   ]
  },
  {
   "cell_type": "code",
   "execution_count": 34,
   "id": "7fe145bf",
   "metadata": {},
   "outputs": [],
   "source": [
    "passes = df[(df['Event']=='Accurate Pass') | (df['Event']=='Inaccurate Pass')]"
   ]
  },
  {
   "cell_type": "code",
   "execution_count": 41,
   "id": "3566995c",
   "metadata": {},
   "outputs": [
    {
     "data": {
      "image/png": "[encoded data removed]",
      "text/plain": [
       "<Figure size 432x288 with 1 Axes>"
      ]
     },
     "metadata": {},
     "output_type": "display_data"
    }
   ],
   "source": [
    "pitch = Pitch(pitch_type='wyscout')\n",
    "fig,ax = pitch.draw()\n",
    "\n",
    "pitch.scatter(passes[passes['Event']=='Accurate Pass']['X'],passes[passes['Event']=='Accurate Pass']['Y'],ax=ax,c='#3e9e5f')\n",
    "pitch.scatter(passes[passes['Event']=='Inaccurate Pass']['X'],passes[passes['Event']=='Inaccurate Pass']['Y'],ax=ax,c='#bb6666')\n",
    "\n",
    "plt.show()"
   ]
  },
  {
   "cell_type": "code",
   "execution_count": null,
   "id": "be849dbc",
   "metadata": {},
   "outputs": [],
   "source": []
  }
 ],
 "metadata": {
  "kernelspec": {
   "display_name": "Python 3 (ipykernel)",
   "language": "python",
   "name": "python3"
  },
  "language_info": {
   "codemirror_mode": {
    "name": "ipython",
    "version": 3
   },
   "file_extension": ".py",
   "mimetype": "text/x-python",
   "name": "python",
   "nbconvert_exporter": "python",
   "pygments_lexer": "ipython3",
   "version": "3.9.7"
  }
 },
 "nbformat": 4,
 "nbformat_minor": 5
}
