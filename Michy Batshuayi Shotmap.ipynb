{
 "cells": [
  {
   "cell_type": "code",
   "execution_count": 2,
   "id": "673c07ac",
   "metadata": {},
   "outputs": [],
   "source": [
    "# importing packages\n",
    "from understatscraper import Understat\n",
    "import pandas as pd\n",
    "from mplsoccer.pitch import Pitch, VerticalPitch\n",
    "import matplotlib.pyplot as plt\n",
    "import warnings\n",
    "warnings.filterwarnings('ignore')"
   ]
  },
  {
   "cell_type": "code",
   "execution_count": 3,
   "id": "f1c79a0b",
   "metadata": {},
   "outputs": [],
   "source": [
    "# instance of the class\n",
    "\n",
    "understat = Understat()"
   ]
  },
  {
   "cell_type": "markdown",
   "id": "3cb603e3",
   "metadata": {},
   "source": [
    "### Seasons of Batshuayi between 2014 and 2021\n",
    "\n",
    "- 2014-16 Ligue 1 Marseille\n",
    "- 2016-18 EPL Chelsea\n",
    "- 2017-18 Bundesliga Borussia Dortmund (half season loan)\n",
    "- 2018-19 La Liga Valencia (half season loan)\n",
    "- 2018-19 EPL Crystal Palace (half season loan)\n",
    "- 2019-20 EPL Chelsea\n",
    "- 2020-21 EPL Crystal Palace"
   ]
  },
  {
   "cell_type": "code",
   "execution_count": 18,
   "id": "a164fee7",
   "metadata": {},
   "outputs": [],
   "source": [
    "ligues = ['Ligue 1','Ligue 1']\n",
    "#'EPL','EPL','Bundesliga','La Liga','EPL','EPL','EPL']\n",
    "seasons = [2014,2015]\n",
    "#2016,2017,2017,2018,2018,2019,2020]"
   ]
  },
  {
   "cell_type": "code",
   "execution_count": null,
   "id": "a02694e3",
   "metadata": {},
   "outputs": [],
   "source": [
    "# creating dataframe by iterating through two lists\n",
    "df = pd.DataFrame()\n",
    "for l,s in zip(ligues,seasons):\n",
    "    df_b = understat.season(l,s,player=\"Michy Batshuayi\")\n",
    "    df.append(df_b)\n",
    "df = pd.concat(df, ignore_index=True)"
   ]
  },
  {
   "cell_type": "code",
   "execution_count": 21,
   "id": "50ec819e",
   "metadata": {},
   "outputs": [
    {
     "name": "stdout",
     "output_type": "stream",
     "text": [
      "Ligue 1 2014\n",
      "Ligue 1 2015\n"
     ]
    }
   ],
   "source": [
    "for a,b in zip(ligues,seasons):\n",
    "    print(a,b)"
   ]
  },
  {
   "cell_type": "code",
   "execution_count": null,
   "id": "9a8066b2",
   "metadata": {},
   "outputs": [],
   "source": []
  }
 ],
 "metadata": {
  "kernelspec": {
   "display_name": "Python 3 (ipykernel)",
   "language": "python",
   "name": "python3"
  },
  "language_info": {
   "codemirror_mode": {
    "name": "ipython",
    "version": 3
   },
   "file_extension": ".py",
   "mimetype": "text/x-python",
   "name": "python",
   "nbconvert_exporter": "python",
   "pygments_lexer": "ipython3",
   "version": "3.9.7"
  }
 },
 "nbformat": 4,
 "nbformat_minor": 5
}
