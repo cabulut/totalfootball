{
 "cells": [
  {
   "cell_type": "code",
   "execution_count": 52,
   "id": "a8bbb081",
   "metadata": {},
   "outputs": [],
   "source": [
    "import pandas as pd\n",
    "import matplotlib.pyplot as plt\n",
    "import seaborn as sns\n",
    "import numpy as np"
   ]
  },
  {
   "cell_type": "code",
   "execution_count": 176,
   "id": "a63b27ae",
   "metadata": {},
   "outputs": [],
   "source": [
    "df = pd.read_csv('superlig.csv')"
   ]
  },
  {
   "cell_type": "code",
   "execution_count": 177,
   "id": "13ae1e81",
   "metadata": {
    "scrolled": true
   },
   "outputs": [
    {
     "name": "stdout",
     "output_type": "stream",
     "text": [
      "<class 'pandas.core.frame.DataFrame'>\n",
      "RangeIndex: 5272 entries, 0 to 5271\n",
      "Data columns (total 20 columns):\n",
      " #   Column            Non-Null Count  Dtype  \n",
      "---  ------            --------------  -----  \n",
      " 0   Takım             5272 non-null   object \n",
      " 1   matchdate turkce  5272 non-null   object \n",
      " 2   Comp Short        5272 non-null   object \n",
      " 3   Hafta             5272 non-null   int64  \n",
      " 4   Season            5272 non-null   int64  \n",
      " 5   Season long       5272 non-null   object \n",
      " 6   Match Date        5272 non-null   object \n",
      " 7   Matchid           5272 non-null   object \n",
      " 8   Max date          5272 non-null   object \n",
      " 9   month turkce      5272 non-null   object \n",
      " 10  GD                5272 non-null   int64  \n",
      " 11  Goals Agst        5272 non-null   int64  \n",
      " 12  Goals For         5272 non-null   int64  \n",
      " 13  Maç               5272 non-null   int64  \n",
      " 14  Points            5272 non-null   int64  \n",
      " 15  points gd2        5272 non-null   int64  \n",
      " 16  X Gd              5272 non-null   float64\n",
      " 17  X Goals Agst      5272 non-null   float64\n",
      " 18  X Goals For       5272 non-null   float64\n",
      " 19  xPoints bucket    5272 non-null   float64\n",
      "dtypes: float64(4), int64(8), object(8)\n",
      "memory usage: 823.9+ KB\n"
     ]
    }
   ],
   "source": [
    "df.info()"
   ]
  },
  {
   "cell_type": "code",
   "execution_count": 178,
   "id": "8e44b5ba",
   "metadata": {
    "scrolled": true
   },
   "outputs": [
    {
     "data": {
      "text/html": [
       "<div>\n",
       "<style scoped>\n",
       "    .dataframe tbody tr th:only-of-type {\n",
       "        vertical-align: middle;\n",
       "    }\n",
       "\n",
       "    .dataframe tbody tr th {\n",
       "        vertical-align: top;\n",
       "    }\n",
       "\n",
       "    .dataframe thead th {\n",
       "        text-align: right;\n",
       "    }\n",
       "</style>\n",
       "<table border=\"1\" class=\"dataframe\">\n",
       "  <thead>\n",
       "    <tr style=\"text-align: right;\">\n",
       "      <th></th>\n",
       "      <th>Takım</th>\n",
       "      <th>matchdate turkce</th>\n",
       "      <th>Comp Short</th>\n",
       "      <th>Hafta</th>\n",
       "      <th>Season</th>\n",
       "      <th>Season long</th>\n",
       "      <th>Match Date</th>\n",
       "      <th>Matchid</th>\n",
       "      <th>Max date</th>\n",
       "      <th>month turkce</th>\n",
       "      <th>GD</th>\n",
       "      <th>Goals Agst</th>\n",
       "      <th>Goals For</th>\n",
       "      <th>Maç</th>\n",
       "      <th>Points</th>\n",
       "      <th>points gd2</th>\n",
       "      <th>X Gd</th>\n",
       "      <th>X Goals Agst</th>\n",
       "      <th>X Goals For</th>\n",
       "      <th>xPoints bucket</th>\n",
       "    </tr>\n",
       "  </thead>\n",
       "  <tbody>\n",
       "    <tr>\n",
       "      <th>0</th>\n",
       "      <td>Akhisarspor</td>\n",
       "      <td>30 Mayıs 2015</td>\n",
       "      <td>TUR</td>\n",
       "      <td>1</td>\n",
       "      <td>1415</td>\n",
       "      <td>2014-15</td>\n",
       "      <td>8/29/2014</td>\n",
       "      <td>BLKAKH1415</td>\n",
       "      <td>5/30/2015</td>\n",
       "      <td>Mayıs</td>\n",
       "      <td>1</td>\n",
       "      <td>1</td>\n",
       "      <td>2</td>\n",
       "      <td>1</td>\n",
       "      <td>3</td>\n",
       "      <td>301</td>\n",
       "      <td>0.560972</td>\n",
       "      <td>0.483106</td>\n",
       "      <td>1.044078</td>\n",
       "      <td>1.832432</td>\n",
       "    </tr>\n",
       "    <tr>\n",
       "      <th>1</th>\n",
       "      <td>Akhisarspor</td>\n",
       "      <td>30 Mayıs 2015</td>\n",
       "      <td>TUR</td>\n",
       "      <td>2</td>\n",
       "      <td>1415</td>\n",
       "      <td>2014-15</td>\n",
       "      <td>9/15/2014</td>\n",
       "      <td>AKHSIV1415</td>\n",
       "      <td>5/30/2015</td>\n",
       "      <td>Mayıs</td>\n",
       "      <td>0</td>\n",
       "      <td>2</td>\n",
       "      <td>2</td>\n",
       "      <td>1</td>\n",
       "      <td>1</td>\n",
       "      <td>100</td>\n",
       "      <td>0.026642</td>\n",
       "      <td>0.963886</td>\n",
       "      <td>0.990529</td>\n",
       "      <td>1.350186</td>\n",
       "    </tr>\n",
       "    <tr>\n",
       "      <th>2</th>\n",
       "      <td>Akhisarspor</td>\n",
       "      <td>30 Mayıs 2015</td>\n",
       "      <td>TUR</td>\n",
       "      <td>3</td>\n",
       "      <td>1415</td>\n",
       "      <td>2014-15</td>\n",
       "      <td>9/20/2014</td>\n",
       "      <td>KYEAKH1415</td>\n",
       "      <td>5/30/2015</td>\n",
       "      <td>Mayıs</td>\n",
       "      <td>1</td>\n",
       "      <td>1</td>\n",
       "      <td>2</td>\n",
       "      <td>1</td>\n",
       "      <td>3</td>\n",
       "      <td>301</td>\n",
       "      <td>0.833107</td>\n",
       "      <td>0.653289</td>\n",
       "      <td>1.486396</td>\n",
       "      <td>2.209984</td>\n",
       "    </tr>\n",
       "    <tr>\n",
       "      <th>3</th>\n",
       "      <td>Akhisarspor</td>\n",
       "      <td>30 Mayıs 2015</td>\n",
       "      <td>TUR</td>\n",
       "      <td>4</td>\n",
       "      <td>1415</td>\n",
       "      <td>2014-15</td>\n",
       "      <td>9/28/2014</td>\n",
       "      <td>AKHFEN1415</td>\n",
       "      <td>5/30/2015</td>\n",
       "      <td>Mayıs</td>\n",
       "      <td>2</td>\n",
       "      <td>0</td>\n",
       "      <td>2</td>\n",
       "      <td>1</td>\n",
       "      <td>3</td>\n",
       "      <td>302</td>\n",
       "      <td>0.048906</td>\n",
       "      <td>1.015609</td>\n",
       "      <td>1.064514</td>\n",
       "      <td>1.350186</td>\n",
       "    </tr>\n",
       "    <tr>\n",
       "      <th>4</th>\n",
       "      <td>Akhisarspor</td>\n",
       "      <td>30 Mayıs 2015</td>\n",
       "      <td>TUR</td>\n",
       "      <td>5</td>\n",
       "      <td>1415</td>\n",
       "      <td>2014-15</td>\n",
       "      <td>10.05.14</td>\n",
       "      <td>BSKAKH1415</td>\n",
       "      <td>5/30/2015</td>\n",
       "      <td>Mayıs</td>\n",
       "      <td>-4</td>\n",
       "      <td>4</td>\n",
       "      <td>0</td>\n",
       "      <td>1</td>\n",
       "      <td>0</td>\n",
       "      <td>-4</td>\n",
       "      <td>-1.855734</td>\n",
       "      <td>2.440619</td>\n",
       "      <td>0.584886</td>\n",
       "      <td>0.169811</td>\n",
       "    </tr>\n",
       "  </tbody>\n",
       "</table>\n",
       "</div>"
      ],
      "text/plain": [
       "         Takım matchdate turkce Comp Short  Hafta  Season Season long  \\\n",
       "0  Akhisarspor    30 Mayıs 2015        TUR      1    1415     2014-15   \n",
       "1  Akhisarspor    30 Mayıs 2015        TUR      2    1415     2014-15   \n",
       "2  Akhisarspor    30 Mayıs 2015        TUR      3    1415     2014-15   \n",
       "3  Akhisarspor    30 Mayıs 2015        TUR      4    1415     2014-15   \n",
       "4  Akhisarspor    30 Mayıs 2015        TUR      5    1415     2014-15   \n",
       "\n",
       "  Match Date     Matchid   Max date month turkce  GD  Goals Agst  Goals For  \\\n",
       "0  8/29/2014  BLKAKH1415  5/30/2015        Mayıs   1           1          2   \n",
       "1  9/15/2014  AKHSIV1415  5/30/2015        Mayıs   0           2          2   \n",
       "2  9/20/2014  KYEAKH1415  5/30/2015        Mayıs   1           1          2   \n",
       "3  9/28/2014  AKHFEN1415  5/30/2015        Mayıs   2           0          2   \n",
       "4   10.05.14  BSKAKH1415  5/30/2015        Mayıs  -4           4          0   \n",
       "\n",
       "   Maç  Points  points gd2      X Gd  X Goals Agst  X Goals For  \\\n",
       "0    1       3         301  0.560972      0.483106     1.044078   \n",
       "1    1       1         100  0.026642      0.963886     0.990529   \n",
       "2    1       3         301  0.833107      0.653289     1.486396   \n",
       "3    1       3         302  0.048906      1.015609     1.064514   \n",
       "4    1       0          -4 -1.855734      2.440619     0.584886   \n",
       "\n",
       "   xPoints bucket  \n",
       "0        1.832432  \n",
       "1        1.350186  \n",
       "2        2.209984  \n",
       "3        1.350186  \n",
       "4        0.169811  "
      ]
     },
     "execution_count": 178,
     "metadata": {},
     "output_type": "execute_result"
    }
   ],
   "source": [
    "df.head()"
   ]
  },
  {
   "cell_type": "markdown",
   "id": "0bb7aeee",
   "metadata": {},
   "source": [
    "### Goals per Game vs Points per Game"
   ]
  },
  {
   "cell_type": "code",
   "execution_count": 179,
   "id": "58254104",
   "metadata": {
    "scrolled": true
   },
   "outputs": [],
   "source": [
    "df = pd.DataFrame(df.groupby('Goals For')['Points'].sum() / df.groupby('Goals For')['Goals For'].count())"
   ]
  },
  {
   "cell_type": "code",
   "execution_count": 180,
   "id": "3ae46d53",
   "metadata": {},
   "outputs": [],
   "source": [
    "df.reset_index(inplace=True)"
   ]
  },
  {
   "cell_type": "code",
   "execution_count": 181,
   "id": "2d87c9c4",
   "metadata": {},
   "outputs": [],
   "source": [
    "df.rename(columns={'Goals For':'Goals',0:'Points'},inplace=True)"
   ]
  },
  {
   "cell_type": "code",
   "execution_count": 182,
   "id": "6f554423",
   "metadata": {},
   "outputs": [
    {
     "data": {
      "text/html": [
       "<div>\n",
       "<style scoped>\n",
       "    .dataframe tbody tr th:only-of-type {\n",
       "        vertical-align: middle;\n",
       "    }\n",
       "\n",
       "    .dataframe tbody tr th {\n",
       "        vertical-align: top;\n",
       "    }\n",
       "\n",
       "    .dataframe thead th {\n",
       "        text-align: right;\n",
       "    }\n",
       "</style>\n",
       "<table border=\"1\" class=\"dataframe\">\n",
       "  <thead>\n",
       "    <tr style=\"text-align: right;\">\n",
       "      <th></th>\n",
       "      <th>Goals</th>\n",
       "      <th>Points</th>\n",
       "    </tr>\n",
       "  </thead>\n",
       "  <tbody>\n",
       "    <tr>\n",
       "      <th>0</th>\n",
       "      <td>0</td>\n",
       "      <td>0.275556</td>\n",
       "    </tr>\n",
       "    <tr>\n",
       "      <th>1</th>\n",
       "      <td>1</td>\n",
       "      <td>1.068330</td>\n",
       "    </tr>\n",
       "    <tr>\n",
       "      <th>2</th>\n",
       "      <td>2</td>\n",
       "      <td>2.049834</td>\n",
       "    </tr>\n",
       "    <tr>\n",
       "      <th>3</th>\n",
       "      <td>3</td>\n",
       "      <td>2.673077</td>\n",
       "    </tr>\n",
       "    <tr>\n",
       "      <th>4</th>\n",
       "      <td>4</td>\n",
       "      <td>2.919786</td>\n",
       "    </tr>\n",
       "    <tr>\n",
       "      <th>5</th>\n",
       "      <td>5</td>\n",
       "      <td>3.000000</td>\n",
       "    </tr>\n",
       "    <tr>\n",
       "      <th>6</th>\n",
       "      <td>6</td>\n",
       "      <td>3.000000</td>\n",
       "    </tr>\n",
       "    <tr>\n",
       "      <th>7</th>\n",
       "      <td>7</td>\n",
       "      <td>3.000000</td>\n",
       "    </tr>\n",
       "  </tbody>\n",
       "</table>\n",
       "</div>"
      ],
      "text/plain": [
       "   Goals    Points\n",
       "0      0  0.275556\n",
       "1      1  1.068330\n",
       "2      2  2.049834\n",
       "3      3  2.673077\n",
       "4      4  2.919786\n",
       "5      5  3.000000\n",
       "6      6  3.000000\n",
       "7      7  3.000000"
      ]
     },
     "execution_count": 182,
     "metadata": {},
     "output_type": "execute_result"
    }
   ],
   "source": [
    "df"
   ]
  },
  {
   "cell_type": "code",
   "execution_count": 183,
   "id": "7ce60d23",
   "metadata": {
    "scrolled": true
   },
   "outputs": [
    {
     "data": {
      "image/png": "[encoded data removed]",
      "text/plain": [
       "<Figure size 1152x576 with 1 Axes>"
      ]
     },
     "metadata": {},
     "output_type": "display_data"
    }
   ],
   "source": [
    "fig,ax = plt.subplots(figsize=(16,8))\n",
    "fig.patch.set_facecolor('#263a4d')\n",
    "\n",
    "plt.plot(df['Goals'],df['Points'],lw=12,ls='dashed',c='#c9897b')\n",
    "\n",
    "ax.set_facecolor(color='#263a4d')\n",
    "ax.spines[['left','bottom','right','top']].set_color('grey')\n",
    "\n",
    "ax.grid(b = True, color ='grey',\n",
    "            linestyle ='-.', linewidth = 2,\n",
    "            alpha = 0.4)\n",
    "\n",
    "font = {'family': 'Comic Sans MS',\n",
    "       'color': 'white',\n",
    "       'weight': 'bold',\n",
    "       'size': 16\n",
    "       }\n",
    "\n",
    "ax.set_xlabel('Goals', fontdict=font)\n",
    "ax.set_ylabel('Points', fontdict=font)\n",
    "plt.xticks(fontsize=15,c='white')\n",
    "plt.yticks(fontsize=15,c='white')\n",
    "#ax.xaxis.set_ticks(np.arange(2019, 2023, 1))\n",
    "plt.title(\"Goals and Points per Game in Süper Lig, 21/22\",fontdict=font)\n",
    "\n",
    "plt.figtext(0.15,0.80,\"@seripenaltilar\",fontsize=12,fontweight='bold',color='white')\n",
    "plt.show()"
   ]
  },
  {
   "cell_type": "markdown",
   "id": "07e9c923",
   "metadata": {},
   "source": [
    "### Marginal Points"
   ]
  },
  {
   "cell_type": "code",
   "execution_count": 184,
   "id": "bf2dc80e",
   "metadata": {},
   "outputs": [],
   "source": [
    "df['Marginal Points']=df.diff()['Points']"
   ]
  },
  {
   "cell_type": "code",
   "execution_count": 185,
   "id": "cf1e98c7",
   "metadata": {},
   "outputs": [],
   "source": [
    "df = df.fillna(0)"
   ]
  },
  {
   "cell_type": "code",
   "execution_count": 186,
   "id": "3c547961",
   "metadata": {},
   "outputs": [],
   "source": [
    "bar = df[df['Marginal Points']!=0]"
   ]
  },
  {
   "cell_type": "code",
   "execution_count": 187,
   "id": "f9650741",
   "metadata": {},
   "outputs": [],
   "source": [
    "bar = bar.round(2)"
   ]
  },
  {
   "cell_type": "code",
   "execution_count": 188,
   "id": "a20b9c20",
   "metadata": {
    "scrolled": true
   },
   "outputs": [
    {
     "data": {
      "text/plain": [
       "Goals\n",
       "1    1\n",
       "2    1\n",
       "3    1\n",
       "4    1\n",
       "5    1\n",
       "Name: Marginal Points, dtype: int64"
      ]
     },
     "execution_count": 188,
     "metadata": {},
     "output_type": "execute_result"
    }
   ],
   "source": [
    "bar.groupby('Goals')['Marginal Points'].size()"
   ]
  },
  {
   "cell_type": "code",
   "execution_count": 189,
   "id": "ea055076",
   "metadata": {},
   "outputs": [],
   "source": [
    "def colors_from_values(values, palette_name):\n",
    "    # normalize the values to range [0, 1]\n",
    "    normalized = (values - min(values)) / (max(values) - min(values))\n",
    "    # convert to indices\n",
    "    indices = np.round(normalized * (len(values) - 1)).astype(np.int32)\n",
    "    # use the indices to get the colors\n",
    "    palette = sns.color_palette(palette_name, len(values))\n",
    "    return np.array(palette).take(indices, axis=0)"
   ]
  },
  {
   "cell_type": "code",
   "execution_count": 190,
   "id": "0b994252",
   "metadata": {},
   "outputs": [
    {
     "data": {
      "image/png": "[encoded data removed]",
      "text/plain": [
       "<Figure size 1152x576 with 1 Axes>"
      ]
     },
     "metadata": {},
     "output_type": "display_data"
    }
   ],
   "source": [
    "fig,ax = plt.subplots(figsize=(16,8))\n",
    "fig.patch.set_facecolor('#263a4d')\n",
    "y = bar['Marginal Points']\n",
    "ax = sns.barplot(x=\"Goals\", y=\"Marginal Points\", data=bar,palette=colors_from_values(y, \"Greens\"),alpha=0.6)\n",
    "\n",
    "ax.set_facecolor(color='#263a4d')\n",
    "ax.spines[['left','bottom','right','top']].set_color('grey')\n",
    "ax.bar_label(ax.containers[0],color='white',size=15,fmt='%g',weight='bold')\n",
    "\n",
    "font = {'family': 'Comic Sans MS',\n",
    "       'color': 'white',\n",
    "       'weight': 'bold',\n",
    "       'size': 16\n",
    "       }\n",
    "\n",
    "ax.set_xlabel('Goals', fontdict=font)\n",
    "ax.set_ylabel('Marginal Points', fontdict=font)\n",
    "plt.xticks(fontsize=15,c='white')\n",
    "plt.yticks(fontsize=15,c='white')\n",
    "\n",
    "plt.title(\"Marginal Points per Goal Scored in Süper Lig, 21/22\",fontdict=font)\n",
    "\n",
    "plt.figtext(0.15,0.80,\"@seripenaltilar\",fontsize=12,fontweight='bold',color='white')\n",
    "plt.show()"
   ]
  },
  {
   "cell_type": "code",
   "execution_count": 191,
   "id": "731ba7f7",
   "metadata": {},
   "outputs": [
    {
     "data": {
      "text/html": [
       "<div>\n",
       "<style scoped>\n",
       "    .dataframe tbody tr th:only-of-type {\n",
       "        vertical-align: middle;\n",
       "    }\n",
       "\n",
       "    .dataframe tbody tr th {\n",
       "        vertical-align: top;\n",
       "    }\n",
       "\n",
       "    .dataframe thead th {\n",
       "        text-align: right;\n",
       "    }\n",
       "</style>\n",
       "<table border=\"1\" class=\"dataframe\">\n",
       "  <thead>\n",
       "    <tr style=\"text-align: right;\">\n",
       "      <th></th>\n",
       "      <th>Goals</th>\n",
       "      <th>Points</th>\n",
       "      <th>Marginal Points</th>\n",
       "    </tr>\n",
       "  </thead>\n",
       "  <tbody>\n",
       "    <tr>\n",
       "      <th>0</th>\n",
       "      <td>0</td>\n",
       "      <td>0.275556</td>\n",
       "      <td>0.000000</td>\n",
       "    </tr>\n",
       "    <tr>\n",
       "      <th>1</th>\n",
       "      <td>1</td>\n",
       "      <td>1.068330</td>\n",
       "      <td>0.792774</td>\n",
       "    </tr>\n",
       "    <tr>\n",
       "      <th>2</th>\n",
       "      <td>2</td>\n",
       "      <td>2.049834</td>\n",
       "      <td>0.981504</td>\n",
       "    </tr>\n",
       "    <tr>\n",
       "      <th>3</th>\n",
       "      <td>3</td>\n",
       "      <td>2.673077</td>\n",
       "      <td>0.623243</td>\n",
       "    </tr>\n",
       "    <tr>\n",
       "      <th>4</th>\n",
       "      <td>4</td>\n",
       "      <td>2.919786</td>\n",
       "      <td>0.246709</td>\n",
       "    </tr>\n",
       "    <tr>\n",
       "      <th>5</th>\n",
       "      <td>5</td>\n",
       "      <td>3.000000</td>\n",
       "      <td>0.080214</td>\n",
       "    </tr>\n",
       "    <tr>\n",
       "      <th>6</th>\n",
       "      <td>6</td>\n",
       "      <td>3.000000</td>\n",
       "      <td>0.000000</td>\n",
       "    </tr>\n",
       "    <tr>\n",
       "      <th>7</th>\n",
       "      <td>7</td>\n",
       "      <td>3.000000</td>\n",
       "      <td>0.000000</td>\n",
       "    </tr>\n",
       "  </tbody>\n",
       "</table>\n",
       "</div>"
      ],
      "text/plain": [
       "   Goals    Points  Marginal Points\n",
       "0      0  0.275556         0.000000\n",
       "1      1  1.068330         0.792774\n",
       "2      2  2.049834         0.981504\n",
       "3      3  2.673077         0.623243\n",
       "4      4  2.919786         0.246709\n",
       "5      5  3.000000         0.080214\n",
       "6      6  3.000000         0.000000\n",
       "7      7  3.000000         0.000000"
      ]
     },
     "execution_count": 191,
     "metadata": {},
     "output_type": "execute_result"
    }
   ],
   "source": [
    "df"
   ]
  },
  {
   "cell_type": "code",
   "execution_count": null,
   "id": "863fbbcd",
   "metadata": {},
   "outputs": [],
   "source": []
  }
 ],
 "metadata": {
  "kernelspec": {
   "display_name": "Python 3 (ipykernel)",
   "language": "python",
   "name": "python3"
  },
  "language_info": {
   "codemirror_mode": {
    "name": "ipython",
    "version": 3
   },
   "file_extension": ".py",
   "mimetype": "text/x-python",
   "name": "python",
   "nbconvert_exporter": "python",
   "pygments_lexer": "ipython3",
   "version": "3.9.7"
  }
 },
 "nbformat": 4,
 "nbformat_minor": 5
}
