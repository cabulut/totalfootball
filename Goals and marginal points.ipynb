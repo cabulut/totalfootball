{
 "cells": [
  {
   "cell_type": "code",
   "execution_count": 52,
   "id": "b28f1922",
   "metadata": {},
   "outputs": [],
   "source": [
    "import pandas as pd\n",
    "import matplotlib.pyplot as plt\n",
    "import seaborn as sns\n",
    "import numpy as np"
   ]
  },
  {
   "cell_type": "code",
   "execution_count": 4,
   "id": "e26104ad",
   "metadata": {},
   "outputs": [],
   "source": [
    "df = pd.read_csv('superlig.csv')"
   ]
  },
  {
   "cell_type": "code",
   "execution_count": 10,
   "id": "e9d054f3",
   "metadata": {
    "scrolled": true
   },
   "outputs": [
    {
     "name": "stdout",
     "output_type": "stream",
     "text": [
      "<class 'pandas.core.frame.DataFrame'>\n",
      "RangeIndex: 760 entries, 0 to 759\n",
      "Data columns (total 20 columns):\n",
      " #   Column              Non-Null Count  Dtype  \n",
      "---  ------              --------------  -----  \n",
      " 0   Takım               760 non-null    object \n",
      " 1   matchdate turkce    760 non-null    object \n",
      " 2   Comp Short          760 non-null    object \n",
      " 3   Hafta               760 non-null    int64  \n",
      " 4   Season long         760 non-null    object \n",
      " 5   Match Date          760 non-null    object \n",
      " 6   Matchid             760 non-null    object \n",
      " 7   Max date            760 non-null    object \n",
      " 8   month turkce        760 non-null    object \n",
      " 9   Season              760 non-null    int64  \n",
      " 10  GD                  760 non-null    int64  \n",
      " 11  Goals For           760 non-null    int64  \n",
      " 12  Goals For (copy)    760 non-null    int64  \n",
      " 13  Maç                 760 non-null    int64  \n",
      " 14  Points              760 non-null    int64  \n",
      " 15  points gd2          760 non-null    int64  \n",
      " 16  Shots For           760 non-null    int64  \n",
      " 17  X Goals For         760 non-null    float64\n",
      " 18  X Goals For (copy)  760 non-null    float64\n",
      " 19  Şut başına xG       760 non-null    float64\n",
      "dtypes: float64(3), int64(9), object(8)\n",
      "memory usage: 118.9+ KB\n"
     ]
    }
   ],
   "source": [
    "df.info()"
   ]
  },
  {
   "cell_type": "code",
   "execution_count": 11,
   "id": "dfb87c33",
   "metadata": {
    "scrolled": true
   },
   "outputs": [
    {
     "data": {
      "text/html": [
       "<div>\n",
       "<style scoped>\n",
       "    .dataframe tbody tr th:only-of-type {\n",
       "        vertical-align: middle;\n",
       "    }\n",
       "\n",
       "    .dataframe tbody tr th {\n",
       "        vertical-align: top;\n",
       "    }\n",
       "\n",
       "    .dataframe thead th {\n",
       "        text-align: right;\n",
       "    }\n",
       "</style>\n",
       "<table border=\"1\" class=\"dataframe\">\n",
       "  <thead>\n",
       "    <tr style=\"text-align: right;\">\n",
       "      <th></th>\n",
       "      <th>Takım</th>\n",
       "      <th>matchdate turkce</th>\n",
       "      <th>Comp Short</th>\n",
       "      <th>Hafta</th>\n",
       "      <th>Season long</th>\n",
       "      <th>Match Date</th>\n",
       "      <th>Matchid</th>\n",
       "      <th>Max date</th>\n",
       "      <th>month turkce</th>\n",
       "      <th>Season</th>\n",
       "      <th>GD</th>\n",
       "      <th>Goals For</th>\n",
       "      <th>Goals For (copy)</th>\n",
       "      <th>Maç</th>\n",
       "      <th>Points</th>\n",
       "      <th>points gd2</th>\n",
       "      <th>Shots For</th>\n",
       "      <th>X Goals For</th>\n",
       "      <th>X Goals For (copy)</th>\n",
       "      <th>Şut başına xG</th>\n",
       "    </tr>\n",
       "  </thead>\n",
       "  <tbody>\n",
       "    <tr>\n",
       "      <th>0</th>\n",
       "      <td>Hatayspor</td>\n",
       "      <td>22 Mayıs 2022</td>\n",
       "      <td>TUR</td>\n",
       "      <td>12</td>\n",
       "      <td>2021-22</td>\n",
       "      <td>11.07.21</td>\n",
       "      <td>ADSHAT2122</td>\n",
       "      <td>5/22/2022</td>\n",
       "      <td>Mayıs</td>\n",
       "      <td>2122</td>\n",
       "      <td>-1</td>\n",
       "      <td>0</td>\n",
       "      <td>0</td>\n",
       "      <td>1</td>\n",
       "      <td>0</td>\n",
       "      <td>-1</td>\n",
       "      <td>12</td>\n",
       "      <td>0.660021</td>\n",
       "      <td>0.660021</td>\n",
       "      <td>0.055002</td>\n",
       "    </tr>\n",
       "    <tr>\n",
       "      <th>1</th>\n",
       "      <td>Basaksehir</td>\n",
       "      <td>22 Mayıs 2022</td>\n",
       "      <td>TUR</td>\n",
       "      <td>22</td>\n",
       "      <td>2021-22</td>\n",
       "      <td>1/19/2022</td>\n",
       "      <td>KAYBSK2122</td>\n",
       "      <td>5/22/2022</td>\n",
       "      <td>Mayıs</td>\n",
       "      <td>2122</td>\n",
       "      <td>-1</td>\n",
       "      <td>0</td>\n",
       "      <td>0</td>\n",
       "      <td>1</td>\n",
       "      <td>0</td>\n",
       "      <td>-1</td>\n",
       "      <td>14</td>\n",
       "      <td>0.776776</td>\n",
       "      <td>0.776776</td>\n",
       "      <td>0.055484</td>\n",
       "    </tr>\n",
       "    <tr>\n",
       "      <th>2</th>\n",
       "      <td>Besiktas</td>\n",
       "      <td>22 Mayıs 2022</td>\n",
       "      <td>TUR</td>\n",
       "      <td>11</td>\n",
       "      <td>2021-22</td>\n",
       "      <td>10/30/2021</td>\n",
       "      <td>HATBJK2122</td>\n",
       "      <td>5/22/2022</td>\n",
       "      <td>Mayıs</td>\n",
       "      <td>2122</td>\n",
       "      <td>-1</td>\n",
       "      <td>0</td>\n",
       "      <td>0</td>\n",
       "      <td>1</td>\n",
       "      <td>0</td>\n",
       "      <td>-1</td>\n",
       "      <td>17</td>\n",
       "      <td>1.811310</td>\n",
       "      <td>1.811310</td>\n",
       "      <td>0.106548</td>\n",
       "    </tr>\n",
       "    <tr>\n",
       "      <th>3</th>\n",
       "      <td>Alanyaspor</td>\n",
       "      <td>22 Mayıs 2022</td>\n",
       "      <td>TUR</td>\n",
       "      <td>34</td>\n",
       "      <td>2021-22</td>\n",
       "      <td>4/25/2022</td>\n",
       "      <td>SIVALA2122</td>\n",
       "      <td>5/22/2022</td>\n",
       "      <td>Mayıs</td>\n",
       "      <td>2122</td>\n",
       "      <td>-1</td>\n",
       "      <td>0</td>\n",
       "      <td>0</td>\n",
       "      <td>1</td>\n",
       "      <td>0</td>\n",
       "      <td>-1</td>\n",
       "      <td>13</td>\n",
       "      <td>0.685834</td>\n",
       "      <td>0.685834</td>\n",
       "      <td>0.052756</td>\n",
       "    </tr>\n",
       "    <tr>\n",
       "      <th>4</th>\n",
       "      <td>Adana Demirspor</td>\n",
       "      <td>22 Mayıs 2022</td>\n",
       "      <td>TUR</td>\n",
       "      <td>28</td>\n",
       "      <td>2021-22</td>\n",
       "      <td>03.04.22</td>\n",
       "      <td>MLTADS2122</td>\n",
       "      <td>5/22/2022</td>\n",
       "      <td>Mayıs</td>\n",
       "      <td>2122</td>\n",
       "      <td>-1</td>\n",
       "      <td>0</td>\n",
       "      <td>0</td>\n",
       "      <td>1</td>\n",
       "      <td>0</td>\n",
       "      <td>-1</td>\n",
       "      <td>20</td>\n",
       "      <td>1.585788</td>\n",
       "      <td>1.585788</td>\n",
       "      <td>0.079289</td>\n",
       "    </tr>\n",
       "  </tbody>\n",
       "</table>\n",
       "</div>"
      ],
      "text/plain": [
       "             Takım matchdate turkce Comp Short  Hafta Season long  Match Date  \\\n",
       "0        Hatayspor    22 Mayıs 2022        TUR     12     2021-22    11.07.21   \n",
       "1       Basaksehir    22 Mayıs 2022        TUR     22     2021-22   1/19/2022   \n",
       "2         Besiktas    22 Mayıs 2022        TUR     11     2021-22  10/30/2021   \n",
       "3       Alanyaspor    22 Mayıs 2022        TUR     34     2021-22   4/25/2022   \n",
       "4  Adana Demirspor    22 Mayıs 2022        TUR     28     2021-22    03.04.22   \n",
       "\n",
       "      Matchid   Max date month turkce  Season  GD  Goals For  \\\n",
       "0  ADSHAT2122  5/22/2022        Mayıs    2122  -1          0   \n",
       "1  KAYBSK2122  5/22/2022        Mayıs    2122  -1          0   \n",
       "2  HATBJK2122  5/22/2022        Mayıs    2122  -1          0   \n",
       "3  SIVALA2122  5/22/2022        Mayıs    2122  -1          0   \n",
       "4  MLTADS2122  5/22/2022        Mayıs    2122  -1          0   \n",
       "\n",
       "   Goals For (copy)  Maç  Points  points gd2  Shots For  X Goals For  \\\n",
       "0                 0    1       0          -1         12     0.660021   \n",
       "1                 0    1       0          -1         14     0.776776   \n",
       "2                 0    1       0          -1         17     1.811310   \n",
       "3                 0    1       0          -1         13     0.685834   \n",
       "4                 0    1       0          -1         20     1.585788   \n",
       "\n",
       "   X Goals For (copy)  Şut başına xG  \n",
       "0            0.660021       0.055002  \n",
       "1            0.776776       0.055484  \n",
       "2            1.811310       0.106548  \n",
       "3            0.685834       0.052756  \n",
       "4            1.585788       0.079289  "
      ]
     },
     "execution_count": 11,
     "metadata": {},
     "output_type": "execute_result"
    }
   ],
   "source": [
    "df.head()"
   ]
  },
  {
   "cell_type": "markdown",
   "id": "6edfad7e",
   "metadata": {},
   "source": [
    "### Goals per Game vs Points per Game"
   ]
  },
  {
   "cell_type": "code",
   "execution_count": 13,
   "id": "8daf86b5",
   "metadata": {
    "scrolled": true
   },
   "outputs": [],
   "source": [
    "df = pd.DataFrame(df.groupby('Goals For')['Points'].sum() / df.groupby('Goals For')['Goals For'].count())"
   ]
  },
  {
   "cell_type": "code",
   "execution_count": 16,
   "id": "2f72240b",
   "metadata": {},
   "outputs": [],
   "source": [
    "df.reset_index(inplace=True)"
   ]
  },
  {
   "cell_type": "code",
   "execution_count": 20,
   "id": "04f27d4b",
   "metadata": {},
   "outputs": [],
   "source": [
    "df.rename(columns={'Goals For':'Goals',0:'Points'},inplace=True)"
   ]
  },
  {
   "cell_type": "code",
   "execution_count": 21,
   "id": "5665d286",
   "metadata": {},
   "outputs": [
    {
     "data": {
      "text/html": [
       "<div>\n",
       "<style scoped>\n",
       "    .dataframe tbody tr th:only-of-type {\n",
       "        vertical-align: middle;\n",
       "    }\n",
       "\n",
       "    .dataframe tbody tr th {\n",
       "        vertical-align: top;\n",
       "    }\n",
       "\n",
       "    .dataframe thead th {\n",
       "        text-align: right;\n",
       "    }\n",
       "</style>\n",
       "<table border=\"1\" class=\"dataframe\">\n",
       "  <thead>\n",
       "    <tr style=\"text-align: right;\">\n",
       "      <th></th>\n",
       "      <th>Goals</th>\n",
       "      <th>Points</th>\n",
       "    </tr>\n",
       "  </thead>\n",
       "  <tbody>\n",
       "    <tr>\n",
       "      <th>0</th>\n",
       "      <td>0</td>\n",
       "      <td>0.250000</td>\n",
       "    </tr>\n",
       "    <tr>\n",
       "      <th>1</th>\n",
       "      <td>1</td>\n",
       "      <td>0.985185</td>\n",
       "    </tr>\n",
       "    <tr>\n",
       "      <th>2</th>\n",
       "      <td>2</td>\n",
       "      <td>2.113514</td>\n",
       "    </tr>\n",
       "    <tr>\n",
       "      <th>3</th>\n",
       "      <td>3</td>\n",
       "      <td>2.835443</td>\n",
       "    </tr>\n",
       "    <tr>\n",
       "      <th>4</th>\n",
       "      <td>4</td>\n",
       "      <td>2.857143</td>\n",
       "    </tr>\n",
       "    <tr>\n",
       "      <th>5</th>\n",
       "      <td>5</td>\n",
       "      <td>3.000000</td>\n",
       "    </tr>\n",
       "    <tr>\n",
       "      <th>6</th>\n",
       "      <td>6</td>\n",
       "      <td>3.000000</td>\n",
       "    </tr>\n",
       "    <tr>\n",
       "      <th>7</th>\n",
       "      <td>7</td>\n",
       "      <td>3.000000</td>\n",
       "    </tr>\n",
       "  </tbody>\n",
       "</table>\n",
       "</div>"
      ],
      "text/plain": [
       "   Goals    Points\n",
       "0      0  0.250000\n",
       "1      1  0.985185\n",
       "2      2  2.113514\n",
       "3      3  2.835443\n",
       "4      4  2.857143\n",
       "5      5  3.000000\n",
       "6      6  3.000000\n",
       "7      7  3.000000"
      ]
     },
     "execution_count": 21,
     "metadata": {},
     "output_type": "execute_result"
    }
   ],
   "source": [
    "df"
   ]
  },
  {
   "cell_type": "code",
   "execution_count": 29,
   "id": "172a7935",
   "metadata": {
    "scrolled": true
   },
   "outputs": [
    {
     "data": {
      "image/png": "[encoded data removed]",
      "text/plain": [
       "<Figure size 1152x576 with 1 Axes>"
      ]
     },
     "metadata": {},
     "output_type": "display_data"
    }
   ],
   "source": [
    "fig,ax = plt.subplots(figsize=(16,8))\n",
    "fig.patch.set_facecolor('#263a4d')\n",
    "\n",
    "plt.plot(df['Goals'],df['Points'],lw=12,ls='dashed',c='#3e9e5f')\n",
    "\n",
    "ax.set_facecolor(color='#263a4d')\n",
    "ax.spines[['left','bottom','right','top']].set_color('grey')\n",
    "\n",
    "ax.grid(b = True, color ='grey',\n",
    "            linestyle ='-.', linewidth = 2,\n",
    "            alpha = 0.4)\n",
    "\n",
    "font = {'family': 'Comic Sans MS',\n",
    "       'color': 'white',\n",
    "       'weight': 'bold',\n",
    "       'size': 16\n",
    "       }\n",
    "\n",
    "ax.set_xlabel('Goals', fontdict=font)\n",
    "ax.set_ylabel('Points', fontdict=font)\n",
    "plt.xticks(fontsize=15,c='white')\n",
    "plt.yticks(fontsize=15,c='white')\n",
    "#ax.xaxis.set_ticks(np.arange(2019, 2023, 1))\n",
    "plt.title(\"Goals and Points per Game in Süper Lig, 21/22\",fontdict=font)\n",
    "\n",
    "plt.figtext(0.15,0.80,\"@seripenaltilar\",fontsize=12,fontweight='bold',color='white')\n",
    "plt.show()"
   ]
  },
  {
   "cell_type": "markdown",
   "id": "903a7618",
   "metadata": {},
   "source": [
    "### Marginal Points"
   ]
  },
  {
   "cell_type": "code",
   "execution_count": 35,
   "id": "d8d61be4",
   "metadata": {},
   "outputs": [],
   "source": [
    "df['Marginal Points']=df.diff()['Points']"
   ]
  },
  {
   "cell_type": "code",
   "execution_count": 38,
   "id": "e44637ea",
   "metadata": {},
   "outputs": [],
   "source": [
    "df = df.fillna(0)"
   ]
  },
  {
   "cell_type": "code",
   "execution_count": 40,
   "id": "cb39a4bd",
   "metadata": {},
   "outputs": [],
   "source": [
    "bar = df[df['Marginal Points']!=0]"
   ]
  },
  {
   "cell_type": "code",
   "execution_count": 104,
   "id": "3dc392e7",
   "metadata": {
    "scrolled": true
   },
   "outputs": [
    {
     "data": {
      "text/plain": [
       "Goals\n",
       "1    1\n",
       "2    1\n",
       "3    1\n",
       "4    1\n",
       "5    1\n",
       "Name: Marginal Points, dtype: int64"
      ]
     },
     "execution_count": 104,
     "metadata": {},
     "output_type": "execute_result"
    }
   ],
   "source": [
    "bar.groupby('Goals')['Marginal Points'].size()"
   ]
  },
  {
   "cell_type": "code",
   "execution_count": 122,
   "id": "cc036ec2",
   "metadata": {},
   "outputs": [],
   "source": [
    "def colors_from_values(values, palette_name):\n",
    "    # normalize the values to range [0, 1]\n",
    "    normalized = (values - min(values)) / (max(values) - min(values))\n",
    "    # convert to indices\n",
    "    indices = np.round(normalized * (len(values) - 1)).astype(np.int32)\n",
    "    # use the indices to get the colors\n",
    "    palette = sns.color_palette(palette_name, len(values))\n",
    "    return np.array(palette).take(indices, axis=0)"
   ]
  },
  {
   "cell_type": "code",
   "execution_count": 133,
   "id": "4ffa1163",
   "metadata": {},
   "outputs": [
    {
     "data": {
      "image/png": "[encoded data removed]",
      "text/plain": [
       "<Figure size 1152x576 with 1 Axes>"
      ]
     },
     "metadata": {},
     "output_type": "display_data"
    }
   ],
   "source": [
    "fig,ax = plt.subplots(figsize=(16,8))\n",
    "fig.patch.set_facecolor('#263a4d')\n",
    "y = bar['Marginal Points']\n",
    "ax = sns.barplot(x=\"Goals\", y=\"Marginal Points\", data=bar,palette=colors_from_values(y, \"Blues\"))\n",
    "\n",
    "ax.set_facecolor(color='#263a4d')\n",
    "ax.spines[['left','bottom','right','top']].set_color('grey')\n",
    "\n",
    "\n",
    "font = {'family': 'Comic Sans MS',\n",
    "       'color': 'white',\n",
    "       'weight': 'bold',\n",
    "       'size': 16\n",
    "       }\n",
    "\n",
    "ax.set_xlabel('Goals', fontdict=font)\n",
    "ax.set_ylabel('Marginal Points', fontdict=font)\n",
    "plt.xticks(fontsize=15,c='white')\n",
    "plt.yticks(fontsize=15,c='white')\n",
    "\n",
    "#plt.title(\"Goals and Points per Game in Süper Lig, 21/22\",fontdict=font)\n",
    "\n",
    "plt.figtext(0.15,0.80,\"@seripenaltilar\",fontsize=12,fontweight='bold',color='white')\n",
    "plt.show()"
   ]
  },
  {
   "cell_type": "code",
   "execution_count": 112,
   "id": "cfdbbb4a",
   "metadata": {},
   "outputs": [
    {
     "ename": "IndexError",
     "evalue": "only integers, slices (`:`), ellipsis (`...`), numpy.newaxis (`None`) and integer or boolean arrays are valid indices",
     "output_type": "error",
     "traceback": [
      "\u001b[0;31m---------------------------------------------------------------------------\u001b[0m",
      "\u001b[0;31mIndexError\u001b[0m                                Traceback (most recent call last)",
      "\u001b[0;32m/var/folders/xl/hkbhm9vn4cj3ffm06jxp57c40000gn/T/ipykernel_3249/3631802306.py\u001b[0m in \u001b[0;36m<module>\u001b[0;34m\u001b[0m\n\u001b[0;32m----> 1\u001b[0;31m \u001b[0mnp\u001b[0m\u001b[0;34m.\u001b[0m\u001b[0marray\u001b[0m\u001b[0;34m(\u001b[0m\u001b[0mpal\u001b[0m\u001b[0;34m[\u001b[0m\u001b[0;34m:\u001b[0m\u001b[0;34m:\u001b[0m\u001b[0;34m-\u001b[0m\u001b[0;36m1\u001b[0m\u001b[0;34m]\u001b[0m\u001b[0;34m)\u001b[0m\u001b[0;34m[\u001b[0m\u001b[0mrank\u001b[0m\u001b[0;34m]\u001b[0m\u001b[0;34m\u001b[0m\u001b[0;34m\u001b[0m\u001b[0m\n\u001b[0m",
      "\u001b[0;31mIndexError\u001b[0m: only integers, slices (`:`), ellipsis (`...`), numpy.newaxis (`None`) and integer or boolean arrays are valid indices"
     ]
    }
   ],
   "source": [
    "np.array(pal[::-1])[rank]"
   ]
  },
  {
   "cell_type": "code",
   "execution_count": null,
   "id": "46988e35",
   "metadata": {},
   "outputs": [],
   "source": []
  }
 ],
 "metadata": {
  "kernelspec": {
   "display_name": "Python 3 (ipykernel)",
   "language": "python",
   "name": "python3"
  },
  "language_info": {
   "codemirror_mode": {
    "name": "ipython",
    "version": 3
   },
   "file_extension": ".py",
   "mimetype": "text/x-python",
   "name": "python",
   "nbconvert_exporter": "python",
   "pygments_lexer": "ipython3",
   "version": "3.9.7"
  }
 },
 "nbformat": 4,
 "nbformat_minor": 5
}
