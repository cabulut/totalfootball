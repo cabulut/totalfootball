{
 "cells": [
  {
   "cell_type": "code",
   "execution_count": 38,
   "id": "edd81499",
   "metadata": {},
   "outputs": [],
   "source": [
    "from understatscraper import Understat\n",
    "import pandas as pd\n",
    "import matplotlib.pyplot as plt\n",
    "import numpy as np\n",
    "import warnings\n",
    "warnings.filterwarnings('ignore')"
   ]
  },
  {
   "cell_type": "code",
   "execution_count": 2,
   "id": "d0c039fd",
   "metadata": {},
   "outputs": [],
   "source": [
    "understat = Understat()"
   ]
  },
  {
   "cell_type": "code",
   "execution_count": 5,
   "id": "1bf6cb55",
   "metadata": {},
   "outputs": [],
   "source": [
    "# Getafe match ids\n",
    "\n",
    "ids = [17136,17154,17162,17167,17184,17187,17205,17214,17221,17232,17244,17253,17265,17269,17279,17289,17296,17310,\n",
    "      17323,17333,17342,17352,17361]\n",
    "ids = [str(x) for x in ids]"
   ]
  },
  {
   "cell_type": "code",
   "execution_count": 10,
   "id": "6a0e4c7c",
   "metadata": {},
   "outputs": [],
   "source": [
    "# creating dataframe\n",
    "\n",
    "df = pd.DataFrame()\n",
    "for x in ids:\n",
    "    df_getafe = understat.single_match(x)\n",
    "    df = df.append(df_getafe)"
   ]
  },
  {
   "cell_type": "code",
   "execution_count": 18,
   "id": "869845db",
   "metadata": {},
   "outputs": [],
   "source": [
    "enes = df[df.player == 'Enes Ünal']"
   ]
  },
  {
   "cell_type": "code",
   "execution_count": 28,
   "id": "db1cb109",
   "metadata": {},
   "outputs": [],
   "source": [
    "enes[['X','Y','xG']] = enes[['X','Y','xG']].apply(pd.to_numeric,axis=1)"
   ]
  },
  {
   "cell_type": "code",
   "execution_count": 31,
   "id": "600a6071",
   "metadata": {},
   "outputs": [],
   "source": [
    "enes['date'] = pd.to_datetime(enes['date'])"
   ]
  },
  {
   "cell_type": "code",
   "execution_count": 36,
   "id": "b784e67d",
   "metadata": {},
   "outputs": [],
   "source": [
    "enes['xg_cumulative'] = enes['xG'].cumsum()"
   ]
  },
  {
   "cell_type": "code",
   "execution_count": 46,
   "id": "a6a5862a",
   "metadata": {},
   "outputs": [],
   "source": [
    "enes['goal'] = np.where(enes['result']=='Goal',1,0)\n",
    "enes['goal_cumulative'] = enes['goal'].cumsum()"
   ]
  },
  {
   "cell_type": "code",
   "execution_count": null,
   "id": "d503155a",
   "metadata": {},
   "outputs": [],
   "source": []
  }
 ],
 "metadata": {
  "kernelspec": {
   "display_name": "Python 3 (ipykernel)",
   "language": "python",
   "name": "python3"
  },
  "language_info": {
   "codemirror_mode": {
    "name": "ipython",
    "version": 3
   },
   "file_extension": ".py",
   "mimetype": "text/x-python",
   "name": "python",
   "nbconvert_exporter": "python",
   "pygments_lexer": "ipython3",
   "version": "3.9.7"
  }
 },
 "nbformat": 4,
 "nbformat_minor": 5
}
