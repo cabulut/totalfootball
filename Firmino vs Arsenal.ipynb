{
 "cells": [
  {
   "cell_type": "code",
   "execution_count": 1,
   "id": "21b166a1",
   "metadata": {},
   "outputs": [],
   "source": [
    "from understatscraper import Understat\n",
    "import pandas as pd\n",
    "import matplotlib.pyplot as plt\n",
    "import matplotlib.patches as patches\n",
    "import numpy as np\n",
    "import warnings\n",
    "warnings.filterwarnings('ignore')\n",
    "from mplsoccer.pitch import Pitch, VerticalPitch"
   ]
  },
  {
   "cell_type": "code",
   "execution_count": 2,
   "id": "e3dcac84",
   "metadata": {},
   "outputs": [],
   "source": [
    "understat = Understat()"
   ]
  },
  {
   "cell_type": "code",
   "execution_count": 31,
   "id": "ba56eab0",
   "metadata": {},
   "outputs": [],
   "source": [
    "# creating dataframe\n",
    "\n",
    "ids = [2015,2016,2017,2018,2019,2020,2021]\n",
    "\n",
    "df = pd.DataFrame()\n",
    "for x in ids:\n",
    "    df_firmino = understat.season('EPL', x, team='Liverpool', player='Roberto Firmino')\n",
    "    df = df.append(df_firmino)"
   ]
  },
  {
   "cell_type": "code",
   "execution_count": 37,
   "id": "a8f94211",
   "metadata": {},
   "outputs": [],
   "source": [
    "df.to_csv('firmino.csv')"
   ]
  },
  {
   "cell_type": "code",
   "execution_count": 32,
   "id": "96c8d374",
   "metadata": {},
   "outputs": [],
   "source": [
    "arsenal = df[(df['h_team']=='Arsenal') |(df['a_team']=='Arsenal')]"
   ]
  },
  {
   "cell_type": "code",
   "execution_count": 33,
   "id": "05387bda",
   "metadata": {},
   "outputs": [
    {
     "data": {
      "text/plain": [
       "BlockedShot    12\n",
       "MissedShots    10\n",
       "Goal            9\n",
       "SavedShot       4\n",
       "ShotOnPost      2\n",
       "Name: result, dtype: int64"
      ]
     },
     "execution_count": 33,
     "metadata": {},
     "output_type": "execute_result"
    }
   ],
   "source": [
    "arsenal['result'].value_counts()"
   ]
  },
  {
   "cell_type": "code",
   "execution_count": 34,
   "id": "e16d707e",
   "metadata": {},
   "outputs": [],
   "source": [
    "arsenal['xG'] = pd.to_numeric(arsenal['xG'])"
   ]
  },
  {
   "cell_type": "code",
   "execution_count": 38,
   "id": "85296e9c",
   "metadata": {},
   "outputs": [],
   "source": [
    "xG = round(arsenal['xG'].sum(),2)"
   ]
  },
  {
   "cell_type": "code",
   "execution_count": 43,
   "id": "57df96f2",
   "metadata": {},
   "outputs": [],
   "source": [
    "goal = len(arsenal[arsenal['result']=='Goal'])"
   ]
  },
  {
   "cell_type": "code",
   "execution_count": 49,
   "id": "93b2708d",
   "metadata": {},
   "outputs": [],
   "source": [
    "conversion = round(len(arsenal[arsenal['result']=='Goal'])/len(arsenal),2)"
   ]
  },
  {
   "cell_type": "markdown",
   "id": "a8e274d4",
   "metadata": {},
   "source": [
    "### Creating Shot Map"
   ]
  },
  {
   "cell_type": "code",
   "execution_count": 53,
   "id": "6779a5e6",
   "metadata": {},
   "outputs": [],
   "source": [
    "pitch = VerticalPitch(pad_bottom=0.5,\n",
    "                     half=True,\n",
    "                     goal_type='box',\n",
    "                     goal_alpha=0.8,\n",
    "                     pitch_type='wyscout',\n",
    "                     pitch_color='#263a4d')"
   ]
  },
  {
   "cell_type": "code",
   "execution_count": null,
   "id": "85e303c1",
   "metadata": {},
   "outputs": [],
   "source": []
  }
 ],
 "metadata": {
  "kernelspec": {
   "display_name": "Python 3 (ipykernel)",
   "language": "python",
   "name": "python3"
  },
  "language_info": {
   "codemirror_mode": {
    "name": "ipython",
    "version": 3
   },
   "file_extension": ".py",
   "mimetype": "text/x-python",
   "name": "python",
   "nbconvert_exporter": "python",
   "pygments_lexer": "ipython3",
   "version": "3.9.7"
  }
 },
 "nbformat": 4,
 "nbformat_minor": 5
}
