{
 "cells": [
  {
   "cell_type": "code",
   "execution_count": 1,
   "id": "f9870d4b",
   "metadata": {},
   "outputs": [],
   "source": [
    "from understatscraper import Understat\n",
    "import pandas as pd\n",
    "import matplotlib.pyplot as plt\n",
    "import matplotlib.patches as patches\n",
    "import numpy as np\n",
    "import warnings\n",
    "warnings.filterwarnings('ignore')\n",
    "from mplsoccer.pitch import Pitch, VerticalPitch"
   ]
  },
  {
   "cell_type": "code",
   "execution_count": 2,
   "id": "621a0bf1",
   "metadata": {},
   "outputs": [],
   "source": [
    "understat = Understat()"
   ]
  },
  {
   "cell_type": "code",
   "execution_count": 31,
   "id": "bd142538",
   "metadata": {},
   "outputs": [],
   "source": [
    "# creating dataframe\n",
    "\n",
    "ids = [2015,2016,2017,2018,2019,2020,2021]\n",
    "\n",
    "df = pd.DataFrame()\n",
    "for x in ids:\n",
    "    df_firmino = understat.season('EPL', x, team='Liverpool', player='Roberto Firmino')\n",
    "    df = df.append(df_firmino)"
   ]
  },
  {
   "cell_type": "code",
   "execution_count": 37,
   "id": "66a02b41",
   "metadata": {},
   "outputs": [],
   "source": [
    "df.to_csv('firmino.csv')"
   ]
  },
  {
   "cell_type": "code",
   "execution_count": 32,
   "id": "69c9e207",
   "metadata": {},
   "outputs": [],
   "source": [
    "arsenal = df[(df['h_team']=='Arsenal') |(df['a_team']=='Arsenal')]"
   ]
  },
  {
   "cell_type": "code",
   "execution_count": 33,
   "id": "83863590",
   "metadata": {},
   "outputs": [
    {
     "data": {
      "text/plain": [
       "BlockedShot    12\n",
       "MissedShots    10\n",
       "Goal            9\n",
       "SavedShot       4\n",
       "ShotOnPost      2\n",
       "Name: result, dtype: int64"
      ]
     },
     "execution_count": 33,
     "metadata": {},
     "output_type": "execute_result"
    }
   ],
   "source": [
    "arsenal['result'].value_counts()"
   ]
  },
  {
   "cell_type": "code",
   "execution_count": 34,
   "id": "1744182c",
   "metadata": {},
   "outputs": [],
   "source": [
    "arsenal['xG'] = pd.to_numeric(arsenal['xG'])"
   ]
  },
  {
   "cell_type": "code",
   "execution_count": 35,
   "id": "bcdfbba9",
   "metadata": {},
   "outputs": [
    {
     "data": {
      "text/plain": [
       "5.400968419387935"
      ]
     },
     "execution_count": 35,
     "metadata": {},
     "output_type": "execute_result"
    }
   ],
   "source": [
    "arsenal['xG'].sum()"
   ]
  },
  {
   "cell_type": "code",
   "execution_count": null,
   "id": "81357878",
   "metadata": {},
   "outputs": [],
   "source": []
  }
 ],
 "metadata": {
  "kernelspec": {
   "display_name": "Python 3 (ipykernel)",
   "language": "python",
   "name": "python3"
  },
  "language_info": {
   "codemirror_mode": {
    "name": "ipython",
    "version": 3
   },
   "file_extension": ".py",
   "mimetype": "text/x-python",
   "name": "python",
   "nbconvert_exporter": "python",
   "pygments_lexer": "ipython3",
   "version": "3.9.7"
  }
 },
 "nbformat": 4,
 "nbformat_minor": 5
}
