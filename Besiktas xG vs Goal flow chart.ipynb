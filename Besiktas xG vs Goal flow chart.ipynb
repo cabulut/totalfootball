{
 "cells": [
  {
   "cell_type": "code",
   "execution_count": 1,
   "id": "fdef5020",
   "metadata": {},
   "outputs": [],
   "source": [
    "import pandas as pd\n",
    "import matplotlib.pyplot as plt\n",
    "import warnings\n",
    "warnings.filterwarnings('ignore')"
   ]
  },
  {
   "cell_type": "code",
   "execution_count": 43,
   "id": "105762f4",
   "metadata": {},
   "outputs": [],
   "source": [
    "df = pd.read_csv('bjk_xg.csv',sep='\\t')"
   ]
  },
  {
   "cell_type": "code",
   "execution_count": 46,
   "id": "f629464b",
   "metadata": {},
   "outputs": [],
   "source": [
    "df['Date'] = pd.to_datetime(df['Date'])\n",
    "df['xG'] = pd.to_numeric(df['xG'].astype(str).str.replace(',','.'),errors='coerce')"
   ]
  },
  {
   "cell_type": "code",
   "execution_count": 47,
   "id": "93f25c94",
   "metadata": {},
   "outputs": [
    {
     "name": "stdout",
     "output_type": "stream",
     "text": [
      "<class 'pandas.core.frame.DataFrame'>\n",
      "RangeIndex: 27 entries, 0 to 26\n",
      "Data columns (total 3 columns):\n",
      " #   Column  Non-Null Count  Dtype         \n",
      "---  ------  --------------  -----         \n",
      " 0   Date    27 non-null     datetime64[ns]\n",
      " 1   Goal    27 non-null     int64         \n",
      " 2   xG      27 non-null     float64       \n",
      "dtypes: datetime64[ns](1), float64(1), int64(1)\n",
      "memory usage: 776.0 bytes\n"
     ]
    }
   ],
   "source": [
    "df.info()"
   ]
  },
  {
   "cell_type": "code",
   "execution_count": 48,
   "id": "e1acc3e9",
   "metadata": {},
   "outputs": [],
   "source": [
    "df['xg_cumulative'] = df['xG'].cumsum()\n",
    "df['goal_cumulative'] = df['Goal'].cumsum()"
   ]
  },
  {
   "cell_type": "markdown",
   "id": "8fbfcb8b",
   "metadata": {},
   "source": [
    "### xG flow chart"
   ]
  },
  {
   "cell_type": "code",
   "execution_count": 55,
   "id": "45fc13df",
   "metadata": {},
   "outputs": [
    {
     "data": {
      "text/plain": [
       "Text(0.065, 0.58, 'xG: 46.48')"
      ]
     },
     "execution_count": 55,
     "metadata": {},
     "output_type": "execute_result"
    },
    {
     "data": {
      "image/png": "[encoded data removed]",
      "text/plain": [
       "<Figure size 1152x576 with 1 Axes>"
      ]
     },
     "metadata": {},
     "output_type": "display_data"
    }
   ],
   "source": [
    "fig,ax = plt.subplots(figsize=(16,8))\n",
    "\n",
    "ax.step(x=df['Date'],y=df['xg_cumulative'],c=\"#808080\",linewidth=6)\n",
    "ax.step(x=df['Date'],y=df['goal_cumulative'],c=\"#c9897b\",linewidth=6)\n",
    "\n",
    "ax.set_facecolor(color='#263a4d')\n",
    "fig.patch.set_facecolor('#263a4d')\n",
    "\n",
    "plt.fill_between(df['Date'],df['xg_cumulative'],alpha=0.1,color=\"#808080\",step='pre')\n",
    "# in fill_between y should be adjusted depending on which one is more xG or Goal\n",
    "\n",
    "plt.text(0.065, 0.83, \"Goal: {}\".format(round(df['goal_cumulative'].max(),2)), size=19,\n",
    "         ha=\"center\", va=\"center\",transform=ax.transAxes,\n",
    "         color=\"#c9897b\",fontweight='bold',\n",
    "         bbox=dict(boxstyle=\"circle\",color='#c9897b',alpha=0.20)\n",
    "         )\n",
    "\n",
    "plt.text(0.065, 0.58, \"xG: {}\".format(round(df['xg_cumulative'].max(),2)), size=19,\n",
    "         ha=\"center\", va=\"center\",transform=ax.transAxes,\n",
    "         color=\"#C0C0C0\",fontweight='bold',\n",
    "         bbox=dict(boxstyle=\"circle\",color='#808080',alpha=0.30)\n",
    "         )\n",
    "\n",
    "font = {'family': 'Comic Sans MS',\n",
    "       'color': 'white',\n",
    "       'weight': 'bold',\n",
    "       'size': 16\n",
    "       }\n",
    "\n",
    "plt.xlabel('Date',fontdict=font)\n",
    "plt.ylabel('Cumulative xG and Goal', fontdict=font)\n",
    "plt.xticks(fontsize=12,c='white')\n",
    "plt.yticks(fontsize=12,c='white')\n",
    "plt.title('Enes Ünal xG vs Goal',fontdict=font)\n",
    "plt.grid(False)"
   ]
  },
  {
   "cell_type": "code",
   "execution_count": null,
   "id": "4fb4cf59",
   "metadata": {},
   "outputs": [],
   "source": []
  }
 ],
 "metadata": {
  "kernelspec": {
   "display_name": "Python 3 (ipykernel)",
   "language": "python",
   "name": "python3"
  },
  "language_info": {
   "codemirror_mode": {
    "name": "ipython",
    "version": 3
   },
   "file_extension": ".py",
   "mimetype": "text/x-python",
   "name": "python",
   "nbconvert_exporter": "python",
   "pygments_lexer": "ipython3",
   "version": "3.9.7"
  }
 },
 "nbformat": 4,
 "nbformat_minor": 5
}
