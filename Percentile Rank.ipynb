{
 "cells": [
  {
   "cell_type": "code",
   "execution_count": 2,
   "id": "e7c3096e",
   "metadata": {},
   "outputs": [],
   "source": [
    "import pandas as pd\n",
    "import numpy as np\n",
    "import warnings\n",
    "warnings.filterwarnings('ignore')\n",
    "from mplsoccer import PyPizza,add_image,FontManager\n",
    "from scipy import stats\n",
    "import math\n",
    "import matplotlib.pyplot as plt\n",
    "from urllib.request import urlopen\n",
    "from PIL import Image\n",
    "pd.set_option('display.max_columns', None)"
   ]
  },
  {
   "cell_type": "code",
   "execution_count": 3,
   "id": "b499c013",
   "metadata": {},
   "outputs": [],
   "source": [
    "#scraping fbref data, reference to geek culture on medium\n",
    "#https://medium.com/geekculture/an-introduction-to-football-player-dashboards-using-python-and-matplotlib-eb5328dfe85f\n",
    "\n",
    "def readfromhtml(filepath):\n",
    "    df = pd.read_html(filepath)[0]\n",
    "    column_lst = list(df.columns)\n",
    "    for index in range(len(column_lst)):\n",
    "        column_lst[index] = column_lst[index][1]\n",
    "        \n",
    "    df.columns = column_lst\n",
    "    df.drop(df[df['Player'] == 'Player'].index, inplace=True)\n",
    "    df = df.fillna('0')\n",
    "    df.set_index('Rk', drop=True, inplace=True)\n",
    "    try:\n",
    "        df['Comp'] = df['Comp'].apply(lambda x: ' '.join(x.split()[1:]))\n",
    "        df['Nation'] = df['Nation'].astype(str)\n",
    "        df['Nation'] = df['Nation'].apply(lambda x: x.split()[-1])\n",
    "    except:\n",
    "        print('Error in uploading file:' + filepath)\n",
    "    finally:\n",
    "        df = df.apply(pd.to_numeric, errors='ignore')\n",
    "        return df"
   ]
  },
  {
   "cell_type": "code",
   "execution_count": 4,
   "id": "cce721ac",
   "metadata": {},
   "outputs": [],
   "source": [
    "df1 = readfromhtml('https://fbref.com/en/comps/Big5/passing/players/Big-5-European-Leagues-Stats')"
   ]
  },
  {
   "cell_type": "code",
   "execution_count": 5,
   "id": "ee154cf6",
   "metadata": {},
   "outputs": [],
   "source": [
    "df2 = readfromhtml('https://fbref.com/en/comps/Big5/defense/players/Big-5-European-Leagues-Stats')"
   ]
  },
  {
   "cell_type": "code",
   "execution_count": 6,
   "id": "269a8ea7",
   "metadata": {},
   "outputs": [],
   "source": [
    "df3 = readfromhtml('https://fbref.com/en/comps/Big5/possession/players/Big-5-European-Leagues-Stats')"
   ]
  },
  {
   "cell_type": "markdown",
   "id": "a02c3568",
   "metadata": {},
   "source": [
    "### Data Cleaning"
   ]
  },
  {
   "cell_type": "code",
   "execution_count": 7,
   "id": "2e00fe82",
   "metadata": {},
   "outputs": [],
   "source": [
    "df1 = df1[['Player','Pos','Comp','Cmp%','TotDist','PrgDist','Att','Prog']]"
   ]
  },
  {
   "cell_type": "code",
   "execution_count": 8,
   "id": "0786ab83",
   "metadata": {},
   "outputs": [],
   "source": [
    "df1.columns = ['Player','Pos','Comp','Pass%','Cmp%','Cmp%','Cmp%','TotDist','PrgDist','Att','Short Pass Att','Att','Long Pass Att','Prog']"
   ]
  },
  {
   "cell_type": "code",
   "execution_count": 9,
   "id": "9e4d1810",
   "metadata": {},
   "outputs": [],
   "source": [
    "df1 = df1[['Player','Pos','Comp','Pass%','TotDist','PrgDist','Short Pass Att','Long Pass Att','Prog']]"
   ]
  },
  {
   "cell_type": "code",
   "execution_count": 11,
   "id": "8908e565",
   "metadata": {},
   "outputs": [],
   "source": [
    "#df2 = df2[['Player','Pos','Comp','TklW','Def 3rd','Att 3rd','Press','Succ','Tkl+Int']]"
   ]
  },
  {
   "cell_type": "code",
   "execution_count": null,
   "id": "916fe6a0",
   "metadata": {},
   "outputs": [],
   "source": [
    "df2.columns = ['Player','Pos','Comp','TklW','Def 3rd','Press Def 3rd','Att 3rd','Press Att 3rd','Press','Press Succ','Tkl+Int']"
   ]
  },
  {
   "cell_type": "code",
   "execution_count": null,
   "id": "b7c4ad0f",
   "metadata": {},
   "outputs": [],
   "source": [
    "df2 = df2[['Player','Pos','Comp','TklW','Press Def 3rd','Press Att 3rd','Press','Press Succ','Tkl+Int']]"
   ]
  },
  {
   "cell_type": "code",
   "execution_count": null,
   "id": "a9ed3e9a",
   "metadata": {},
   "outputs": [],
   "source": [
    "df3 = df3[['Player','Pos','Comp','90s','Touches','Att 3rd','Succ','Att','#Pl','CPA']]"
   ]
  },
  {
   "cell_type": "code",
   "execution_count": null,
   "id": "fd2318cb",
   "metadata": {},
   "outputs": [],
   "source": [
    "df3.columns = ['Player','Pos','Comp','90s','Touches','Touches Att 3rd','Dribbles Succ','Dribbles Att','#Pl','CPA']"
   ]
  },
  {
   "cell_type": "code",
   "execution_count": null,
   "id": "ae4908da",
   "metadata": {},
   "outputs": [],
   "source": [
    "data = df1.merge(df2,on=['Player','Pos','Comp']).merge(df3,on=['Player','Pos','Comp'])"
   ]
  },
  {
   "cell_type": "code",
   "execution_count": null,
   "id": "574b4d58",
   "metadata": {},
   "outputs": [],
   "source": [
    "data = data[(data['Pos']=='DF')&(data['Comp']=='Premier League')&(data['90s']>=10.0)]"
   ]
  },
  {
   "cell_type": "code",
   "execution_count": null,
   "id": "28570ff8",
   "metadata": {},
   "outputs": [],
   "source": [
    "data.reset_index(inplace=True)"
   ]
  },
  {
   "cell_type": "code",
   "execution_count": null,
   "id": "34f8218b",
   "metadata": {},
   "outputs": [],
   "source": [
    "data.drop(['index','90s'],inplace=True,axis=1)"
   ]
  },
  {
   "cell_type": "markdown",
   "id": "0d8cc135",
   "metadata": {},
   "source": [
    "### Calculating Percentiles"
   ]
  },
  {
   "cell_type": "code",
   "execution_count": null,
   "id": "e46ffa65",
   "metadata": {},
   "outputs": [],
   "source": [
    "params = list(data.columns[3:])\n",
    "print(params)"
   ]
  },
  {
   "cell_type": "code",
   "execution_count": null,
   "id": "0fedc556",
   "metadata": {},
   "outputs": [],
   "source": [
    "saiss = data[data['Player']=='Romain Saïss']\n",
    "saiss = saiss.iloc[:,3:].values.tolist()[0]\n",
    "print(saiss)"
   ]
  },
  {
   "cell_type": "code",
   "execution_count": null,
   "id": "87d57fb6",
   "metadata": {},
   "outputs": [],
   "source": [
    "values = []\n",
    "for x in range(len(params)):\n",
    "    values.append(math.floor(stats.percentileofscore(data[params[x]],saiss[x])))"
   ]
  },
  {
   "cell_type": "markdown",
   "id": "2557e8fd",
   "metadata": {},
   "source": [
    "### Visualization"
   ]
  },
  {
   "cell_type": "code",
   "execution_count": null,
   "id": "00a92d61",
   "metadata": {},
   "outputs": [],
   "source": [
    "URL = 'https://resources.premierleague.com/premierleague/photos/players/250x250/p107613.png'\n",
    "image = Image.open(urlopen(URL))"
   ]
  },
  {
   "cell_type": "code",
   "execution_count": null,
   "id": "16f5aa7c",
   "metadata": {
    "scrolled": true
   },
   "outputs": [],
   "source": [
    "# color for the slices and text\n",
    "slice_colors = [\"#766cbd\"] * 6 + [\"#fec668\"] * 6 + [\"#bc5090\"] * 6\n",
    "text_colors = [\"#000000\"] * 18\n",
    "\n",
    "# instantiate PyPizza class\n",
    "baker = PyPizza(\n",
    "    params=params,                  # list of parameters\n",
    "    background_color=\"#003f5c\",     # background color\n",
    "    straight_line_color=\"#000000\",  # color for straight lines\n",
    "    straight_line_lw=1,             # linewidth for straight lines\n",
    "    last_circle_color=\"#000000\",    # color for last line\n",
    "    last_circle_lw=2,               # linewidth of last circle\n",
    "    other_circle_lw=1,              # linewidth for other circles\n",
    "    inner_circle_size=20            # size of inner circle\n",
    ")\n",
    "\n",
    "# plot pizza\n",
    "fig, ax = baker.make_pizza(\n",
    "    values,                          # list of values\n",
    "    figsize=(16, 16),                # adjust the figsize according to your need\n",
    "    color_blank_space=\"same\",        # use the same color to fill blank space\n",
    "    slice_colors=slice_colors,       # color for individual slices\n",
    "    value_colors=text_colors,        # color for the value-text\n",
    "    value_bck_colors=slice_colors,   # color for the blank spaces\n",
    "    blank_alpha=0.4,                 # alpha for blank-space colors\n",
    "    kwargs_slices=dict(\n",
    "        edgecolor=\"#000000\", zorder=2, linewidth=1\n",
    "    ),                               # values to be used when plotting slices\n",
    "    kwargs_params=dict(\n",
    "        color=\"#F2F2F2\", fontsize=15, va=\"center\" , weight='bold',\n",
    "    ),                               # values to be used when adding parameter labels\n",
    "    kwargs_values=dict(\n",
    "        color=\"#F2F2F2\", fontsize=15,zorder=3,\n",
    "        bbox=dict(\n",
    "            edgecolor=\"#000000\",\n",
    "            boxstyle=\"round,pad=0.2\", lw=1\n",
    "        )\n",
    "    )                                \n",
    ")\n",
    "\n",
    "# add title\n",
    "fig.text(\n",
    "    0.515, 0.975, \"Romain Saïss\", size=16,\n",
    "    ha=\"center\", color=\"#F2F2F2\",fontweight='bold'\n",
    ")\n",
    "\n",
    "# add subtitle\n",
    "fig.text(\n",
    "    0.515, 0.955,\n",
    "    \"Percentile Rank in Premier League Among Defenders | 2021-2022\",\n",
    "    size=13,\n",
    "    ha=\"center\", color=\"#F2F2F2\",fontweight='bold'\n",
    ")\n",
    "\n",
    "# add text\n",
    "fig.text(\n",
    "    0.38, 0.93, \"Passing         Defending         Possession\", size=14,\n",
    "    color=\"#F2F2F2\",fontweight='bold'\n",
    ")\n",
    "\n",
    "#fig.text(\n",
    "    #0.75, 0.93, \"@seripenaltilar\", size=14,\n",
    "    #color=\"#F2F2F2\",fontweight='bold'\n",
    "#)\n",
    "\n",
    "fig.text(\n",
    "    0.515, 0.07, \"Players played >= 900mins\", size=10,\n",
    "    ha=\"center\", color=\"#F2F2F2\",fontweight='bold'\n",
    ")\n",
    "\n",
    "# add rectangles\n",
    "fig.patches.extend([\n",
    "    plt.Rectangle(\n",
    "        (0.35, 0.9225), 0.025, 0.021, fill=True, color=\"#766cbd\",\n",
    "        transform=fig.transFigure, figure=fig\n",
    "    ),\n",
    "    plt.Rectangle(\n",
    "        (0.44, 0.9225), 0.025, 0.021, fill=True, color=\"#fec668\",\n",
    "        transform=fig.transFigure, figure=fig\n",
    "    ),\n",
    "    plt.Rectangle(\n",
    "        (0.55, 0.9225), 0.025, 0.021, fill=True, color=\"#bc5090\",\n",
    "        transform=fig.transFigure, figure=fig\n",
    "    ),\n",
    "])\n",
    "\n",
    "# add image\n",
    "#ax_image = add_image(\n",
    "    #image, fig, left=0.4615, bottom=0.45, width=0.10, height=0.13\n",
    "#)\n",
    "\n",
    "plt.show()"
   ]
  },
  {
   "cell_type": "code",
   "execution_count": null,
   "id": "75003884",
   "metadata": {},
   "outputs": [],
   "source": []
  }
 ],
 "metadata": {
  "kernelspec": {
   "display_name": "Python 3 (ipykernel)",
   "language": "python",
   "name": "python3"
  },
  "language_info": {
   "codemirror_mode": {
    "name": "ipython",
    "version": 3
   },
   "file_extension": ".py",
   "mimetype": "text/x-python",
   "name": "python",
   "nbconvert_exporter": "python",
   "pygments_lexer": "ipython3",
   "version": "3.9.7"
  }
 },
 "nbformat": 4,
 "nbformat_minor": 5
}
