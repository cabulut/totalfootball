{
 "cells": [
  {
   "cell_type": "code",
   "execution_count": 1,
   "id": "90253429",
   "metadata": {},
   "outputs": [],
   "source": [
    "import pandas as pd\n",
    "import matplotlib.pyplot as plt\n",
    "import seaborn as sns"
   ]
  },
  {
   "cell_type": "code",
   "execution_count": 10,
   "id": "d4a9e85e",
   "metadata": {},
   "outputs": [],
   "source": [
    "df = pd.read_excel('champions.xlsx',header=1)"
   ]
  },
  {
   "cell_type": "code",
   "execution_count": 58,
   "id": "98d05325",
   "metadata": {},
   "outputs": [
    {
     "data": {
      "text/html": [
       "<div>\n",
       "<style scoped>\n",
       "    .dataframe tbody tr th:only-of-type {\n",
       "        vertical-align: middle;\n",
       "    }\n",
       "\n",
       "    .dataframe tbody tr th {\n",
       "        vertical-align: top;\n",
       "    }\n",
       "\n",
       "    .dataframe thead th {\n",
       "        text-align: right;\n",
       "    }\n",
       "</style>\n",
       "<table border=\"1\" class=\"dataframe\">\n",
       "  <thead>\n",
       "    <tr style=\"text-align: right;\">\n",
       "      <th></th>\n",
       "      <th>Kulüp</th>\n",
       "      <th>Galibiyet</th>\n",
       "      <th>Ülke</th>\n",
       "      <th>Ligde?</th>\n",
       "    </tr>\n",
       "  </thead>\n",
       "  <tbody>\n",
       "    <tr>\n",
       "      <th>0</th>\n",
       "      <td>Bayern Münih</td>\n",
       "      <td>32</td>\n",
       "      <td>Almanya</td>\n",
       "      <td>1</td>\n",
       "    </tr>\n",
       "    <tr>\n",
       "      <th>1</th>\n",
       "      <td>Nürnberg</td>\n",
       "      <td>9</td>\n",
       "      <td>Almanya</td>\n",
       "      <td>0</td>\n",
       "    </tr>\n",
       "    <tr>\n",
       "      <th>2</th>\n",
       "      <td>Borussia Dortmund</td>\n",
       "      <td>8</td>\n",
       "      <td>Almanya</td>\n",
       "      <td>1</td>\n",
       "    </tr>\n",
       "    <tr>\n",
       "      <th>3</th>\n",
       "      <td>Schalke 04</td>\n",
       "      <td>7</td>\n",
       "      <td>Almanya</td>\n",
       "      <td>0</td>\n",
       "    </tr>\n",
       "    <tr>\n",
       "      <th>4</th>\n",
       "      <td>Hamburg</td>\n",
       "      <td>6</td>\n",
       "      <td>Almanya</td>\n",
       "      <td>0</td>\n",
       "    </tr>\n",
       "  </tbody>\n",
       "</table>\n",
       "</div>"
      ],
      "text/plain": [
       "               Kulüp  Galibiyet     Ülke  Ligde?\n",
       "0      Bayern Münih          32  Almanya       1\n",
       "1           Nürnberg          9  Almanya       0\n",
       "2  Borussia Dortmund          8  Almanya       1\n",
       "3         Schalke 04          7  Almanya       0\n",
       "4            Hamburg          6  Almanya       0"
      ]
     },
     "execution_count": 58,
     "metadata": {},
     "output_type": "execute_result"
    }
   ],
   "source": [
    "df.head()"
   ]
  },
  {
   "cell_type": "code",
   "execution_count": 59,
   "id": "2fb277cc",
   "metadata": {},
   "outputs": [],
   "source": [
    "df2 = pd.DataFrame(df.groupby('Ülke')['Kulüp'].nunique())"
   ]
  },
  {
   "cell_type": "code",
   "execution_count": 60,
   "id": "bd6d440d",
   "metadata": {},
   "outputs": [],
   "source": [
    "df2['std'] = df.groupby('Ülke')['Galibiyet'].std().values"
   ]
  },
  {
   "cell_type": "code",
   "execution_count": 61,
   "id": "d7fd7bfd",
   "metadata": {},
   "outputs": [],
   "source": [
    "df2.reset_index(inplace=True)"
   ]
  },
  {
   "cell_type": "code",
   "execution_count": 62,
   "id": "a52297ad",
   "metadata": {},
   "outputs": [
    {
     "data": {
      "text/html": [
       "<div>\n",
       "<style scoped>\n",
       "    .dataframe tbody tr th:only-of-type {\n",
       "        vertical-align: middle;\n",
       "    }\n",
       "\n",
       "    .dataframe tbody tr th {\n",
       "        vertical-align: top;\n",
       "    }\n",
       "\n",
       "    .dataframe thead th {\n",
       "        text-align: right;\n",
       "    }\n",
       "</style>\n",
       "<table border=\"1\" class=\"dataframe\">\n",
       "  <thead>\n",
       "    <tr style=\"text-align: right;\">\n",
       "      <th></th>\n",
       "      <th>Ülke</th>\n",
       "      <th>Kulüp</th>\n",
       "      <th>std</th>\n",
       "    </tr>\n",
       "  </thead>\n",
       "  <tbody>\n",
       "    <tr>\n",
       "      <th>0</th>\n",
       "      <td>Almanya</td>\n",
       "      <td>30</td>\n",
       "      <td>5.806853</td>\n",
       "    </tr>\n",
       "    <tr>\n",
       "      <th>1</th>\n",
       "      <td>Avusturya</td>\n",
       "      <td>18</td>\n",
       "      <td>8.699035</td>\n",
       "    </tr>\n",
       "    <tr>\n",
       "      <th>2</th>\n",
       "      <td>Belçika</td>\n",
       "      <td>15</td>\n",
       "      <td>8.415971</td>\n",
       "    </tr>\n",
       "    <tr>\n",
       "      <th>3</th>\n",
       "      <td>Fransa</td>\n",
       "      <td>17</td>\n",
       "      <td>3.432115</td>\n",
       "    </tr>\n",
       "    <tr>\n",
       "      <th>4</th>\n",
       "      <td>Hollanda</td>\n",
       "      <td>29</td>\n",
       "      <td>7.721125</td>\n",
       "    </tr>\n",
       "  </tbody>\n",
       "</table>\n",
       "</div>"
      ],
      "text/plain": [
       "        Ülke  Kulüp       std\n",
       "0    Almanya     30  5.806853\n",
       "1  Avusturya     18  8.699035\n",
       "2    Belçika     15  8.415971\n",
       "3     Fransa     17  3.432115\n",
       "4   Hollanda     29  7.721125"
      ]
     },
     "execution_count": 62,
     "metadata": {},
     "output_type": "execute_result"
    }
   ],
   "source": [
    "df2.head()"
   ]
  },
  {
   "cell_type": "code",
   "execution_count": 67,
   "id": "61b8d1fd",
   "metadata": {},
   "outputs": [
    {
     "data": {
      "image/png": "[encoded data removed]",
      "text/plain": [
       "<Figure size 1152x576 with 1 Axes>"
      ]
     },
     "metadata": {
      "needs_background": "light"
     },
     "output_type": "display_data"
    }
   ],
   "source": [
    "fig,ax = plt.subplots(figsize=(16,8))\n",
    "\n",
    "sns.scatterplot(ax=ax,x=df2['Kulüp'],y=df2['std'],data=df2,hue='Kulüp',size=\"Kulüp\",sizes=(15,200))\n",
    "\n",
    "for i in range(df2.shape[0]):\n",
    "    plt.text(x=df2['Kulüp'][i]+0.3,y=df2['std'][i]+0.3,s=df2['Ülke'][i], \n",
    "          fontdict=dict(color='red',size=10),\n",
    "          bbox=dict(facecolor='yellow',alpha=0.5))\n",
    "    \n",
    "plt.show()"
   ]
  },
  {
   "cell_type": "code",
   "execution_count": null,
   "id": "1488502e",
   "metadata": {},
   "outputs": [],
   "source": []
  }
 ],
 "metadata": {
  "kernelspec": {
   "display_name": "Python 3 (ipykernel)",
   "language": "python",
   "name": "python3"
  },
  "language_info": {
   "codemirror_mode": {
    "name": "ipython",
    "version": 3
   },
   "file_extension": ".py",
   "mimetype": "text/x-python",
   "name": "python",
   "nbconvert_exporter": "python",
   "pygments_lexer": "ipython3",
   "version": "3.9.7"
  }
 },
 "nbformat": 4,
 "nbformat_minor": 5
}
