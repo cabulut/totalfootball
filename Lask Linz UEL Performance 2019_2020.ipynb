{
 "cells": [
  {
   "cell_type": "code",
   "execution_count": 5,
   "id": "e3ac22d5",
   "metadata": {},
   "outputs": [],
   "source": [
    "import pandas as pd\n",
    "import numpy as np\n",
    "import warnings\n",
    "warnings.filterwarnings('ignore')"
   ]
  },
  {
   "cell_type": "code",
   "execution_count": 2,
   "id": "107d57d7",
   "metadata": {},
   "outputs": [],
   "source": [
    "df = pd.read_csv('uel_19_20.csv',header=1)"
   ]
  },
  {
   "cell_type": "code",
   "execution_count": 3,
   "id": "6a06b129",
   "metadata": {},
   "outputs": [
    {
     "name": "stdout",
     "output_type": "stream",
     "text": [
      "<class 'pandas.core.frame.DataFrame'>\n",
      "RangeIndex: 56 entries, 0 to 55\n",
      "Data columns (total 26 columns):\n",
      " #   Column             Non-Null Count  Dtype  \n",
      "---  ------             --------------  -----  \n",
      " 0   Team               56 non-null     object \n",
      " 1   Possession         56 non-null     float64\n",
      " 2   MP                 56 non-null     int64  \n",
      " 3   npxG               56 non-null     float64\n",
      " 4   Sh/90              56 non-null     float64\n",
      " 5   SoT/90             56 non-null     float64\n",
      " 6   G/Sh               56 non-null     float64\n",
      " 7   Dist               56 non-null     float64\n",
      " 8   npxG/Sh            56 non-null     float64\n",
      " 9   Pass               56 non-null     float64\n",
      " 10  Pass %             56 non-null     float64\n",
      " 11  Key Pass           56 non-null     float64\n",
      " 12  Progressive Pass   56 non-null     float64\n",
      " 13  Pass Press         56 non-null     float64\n",
      " 14  High Pass          56 non-null     float64\n",
      " 15  Tackles Att 3rd    56 non-null     float64\n",
      " 16  Dribbles Past      56 non-null     float64\n",
      " 17  Defensive Press    56 non-null     float64\n",
      " 18  5-Second           56 non-null     float64\n",
      " 19  Pressures %        56 non-null     float64\n",
      " 20  Pressures Att 3rd  56 non-null     float64\n",
      " 21  Touches Def 3rd    56 non-null     float64\n",
      " 22  Touches Att 3rd    56 non-null     float64\n",
      " 23  Touches Att Pen    56 non-null     float64\n",
      " 24  Dribbles Att       56 non-null     float64\n",
      " 25  Dribbles Succ%     56 non-null     float64\n",
      "dtypes: float64(24), int64(1), object(1)\n",
      "memory usage: 11.5+ KB\n"
     ]
    }
   ],
   "source": [
    "df.info()"
   ]
  },
  {
   "cell_type": "code",
   "execution_count": null,
   "id": "882beaa4",
   "metadata": {},
   "outputs": [],
   "source": []
  }
 ],
 "metadata": {
  "kernelspec": {
   "display_name": "Python 3 (ipykernel)",
   "language": "python",
   "name": "python3"
  },
  "language_info": {
   "codemirror_mode": {
    "name": "ipython",
    "version": 3
   },
   "file_extension": ".py",
   "mimetype": "text/x-python",
   "name": "python",
   "nbconvert_exporter": "python",
   "pygments_lexer": "ipython3",
   "version": "3.9.7"
  }
 },
 "nbformat": 4,
 "nbformat_minor": 5
}
